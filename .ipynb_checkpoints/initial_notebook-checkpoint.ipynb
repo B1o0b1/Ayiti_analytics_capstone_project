{
 "cells": [
  {
   "cell_type": "markdown",
   "metadata": {},
   "source": [
    "# Ayiti Analytics capstone project"
   ]
  },
  {
   "cell_type": "code",
   "execution_count": 1,
   "metadata": {},
   "outputs": [],
   "source": [
    "# Load libraries\n",
    "import requests\n",
    "import re\n",
    "from selenium import webdriver\n",
    "from selenium.webdriver.common.keys import Keys\n",
    "from selenium.webdriver.common.action_chains import ActionChains\n",
    "import time\n",
    "from bs4 import BeautifulSoup\n",
    "import pandas as pd\n",
    "import numpy as np"
   ]
  },
  {
   "cell_type": "code",
   "execution_count": 9,
   "metadata": {},
   "outputs": [],
   "source": [
    "# Create values Selenium\n",
    "USERNAME = \"jean Franco Chosson\" \n",
    "PASSWORD =  \"******************\"\n",
    "linkedin = 'https://www.linkedin.com'"
   ]
  },
  {
   "cell_type": "code",
   "execution_count": null,
   "metadata": {},
   "outputs": [],
   "source": [
    "# Open Selenium\n",
    "browser = webdriver.Chrome()\n",
    "browser.get(linkedin)\n",
    "time.sleep(3)\n",
    "# Identify email and password inputs and enter in information\n",
    "email = browser.find_element_by_name('session_key')\n",
    "password = browser.find_element_by_name('session_password')\n",
    "email.send_keys(USERNAME + Keys.RETURN)\n",
    "password.send_keys(PASSWORD + Keys.RETURN)\n",
    "# Go to profile page and scroll to the bottom of the page to load elements of the page\n",
    "time.sleep(3)"
   ]
  },
  {
   "cell_type": "code",
   "execution_count": null,
   "metadata": {},
   "outputs": [],
   "source": []
  }
 ],
 "metadata": {
  "kernelspec": {
   "display_name": "Python 3",
   "language": "python",
   "name": "python3"
  },
  "language_info": {
   "codemirror_mode": {
    "name": "ipython",
    "version": 3
   },
   "file_extension": ".py",
   "mimetype": "text/x-python",
   "name": "python",
   "nbconvert_exporter": "python",
   "pygments_lexer": "ipython3",
   "version": "3.7.4"
  }
 },
 "nbformat": 4,
 "nbformat_minor": 2
}
