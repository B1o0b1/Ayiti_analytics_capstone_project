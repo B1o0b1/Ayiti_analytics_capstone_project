{
 "cells": [
  {
   "cell_type": "markdown",
   "metadata": {},
   "source": [
    "# Ayiti Analytics capstone project"
   ]
  },
  {
   "cell_type": "markdown",
   "metadata": {},
   "source": [
    "## Exploring Background of different professional in Haiti from LinkedIn"
   ]
  },
  {
   "cell_type": "markdown",
   "metadata": {},
   "source": [
    "#### Data acquisition"
   ]
  },
  {
   "cell_type": "markdown",
   "metadata": {},
   "source": [
    "##### Scrapping LinkedIn to find link profile of different people in Haiti"
   ]
  },
  {
   "cell_type": "code",
   "execution_count": 3,
   "metadata": {},
   "outputs": [],
   "source": [
    "# Load libraries\n",
    "import requests\n",
    "import re\n",
    "from selenium import webdriver\n",
    "from selenium.webdriver.common.keys import Keys\n",
    "from selenium.webdriver.common.action_chains import ActionChains\n",
    "import time\n",
    "from bs4 import BeautifulSoup\n",
    "import pandas as pd\n",
    "import numpy as np"
   ]
  },
  {
   "cell_type": "code",
   "execution_count": 14,
   "metadata": {},
   "outputs": [],
   "source": [
    "# Create values Selenium\n",
    "USERNAME = \"chosson.jeanfranco@gmail.com\" \n",
    "PASSWORD =  \"**********************\"\n",
    "linkedin = 'https://www.linkedin.com'"
   ]
  },
  {
   "cell_type": "code",
   "execution_count": 15,
   "metadata": {},
   "outputs": [],
   "source": [
    "# Open Selenium\n",
    "browser = webdriver.Chrome()\n",
    "browser.get(linkedin)\n",
    "time.sleep(3)\n",
    "# Identify email and password inputs and enter in information\n",
    "email = browser.find_element_by_name('session_key')\n",
    "password = browser.find_element_by_name('session_password')\n",
    "email.send_keys(USERNAME + Keys.RETURN)\n",
    "password.send_keys(PASSWORD + Keys.RETURN)\n",
    "time.sleep(3)"
   ]
  },
  {
   "cell_type": "markdown",
   "metadata": {},
   "source": [
    "##  Step 1"
   ]
  },
  {
   "cell_type": "markdown",
   "metadata": {},
   "source": [
    "I want to build a data set of at least one thousand profiles. "
   ]
  },
  {
   "cell_type": "markdown",
   "metadata": {},
   "source": [
    "LinkedIn puts restrictions on its page to prevent scrapping. \n"
   ]
  },
  {
   "cell_type": "markdown",
   "metadata": {},
   "source": [
    "When you use the LinkedIn filter to search, if you search for people and filter by a specific country, you can get 100 pages with less than 11 people per page. it can be 10 or 5 people per page. \n",
    "In order to build my dataset, i will scrape linkedIn by searching for people and filter one by one for Haiti, some universities in Haiti, some companies in Haiti."
   ]
  },
  {
   "cell_type": "code",
   "execution_count": null,
   "metadata": {},
   "outputs": [],
   "source": [
    "# Go to search page and scroll to the bottom of the page to load elements of the page\n",
    "search = \"https://www.linkedin.com/search/results/people/?facetGeoRegion=%5B%22ht%3A0%22%5D&origin=FACETED_SEARCH\"\n",
    "browser.get(search)\n",
    "time.sleep(3)\n",
    "browser.execute_script(\"window.scrollTo(0, document.body.scrollHeight);\")\n",
    "current_url = 'url_placeholder' # this is a placeholder for the URL check\n",
    "# Create empty dataframe\n",
    "df = pd.DataFrame(columns = ['name', 'title', 'location', 'profile'])\n",
    "\n",
    "debut_url = 'https://www.linkedin.com/search/results/people/?keywords=haiti&origin=SWITCH_SEARCH_VERTICAL&page='\n",
    "\n",
    "for i in range(100):\n",
    "    Final_url = debut_url + str(i)\n",
    "    browser.get(Final_url)\n",
    "    time.sleep(3)\n",
    "    \n",
    "    page = BeautifulSoup(browser.page_source, 'lxml')\n",
    "    page_names = page.find_all('span', class_ = 'actor-name')\n",
    "    page_titles = page.find_all('p', class_ = 'subline-level-1')\n",
    "    page_locations = page.find_all('p', class_ = 'subline-level-2')\n",
    "    page_profiles = page.find_all('a', class_ = 'search-result__result-link')\n",
    "    \n",
    "    # Put scraped data into a dataframe\n",
    "    names = list(map(lambda x: x.text, page_names))\n",
    "    titles = list(map(lambda x: x.text.replace('\\n', ''), page_titles))\n",
    "    locations = list(map(lambda x: x.text.replace('\\n', ''), page_locations))\n",
    "    profiles = list(map(lambda x: linkedin + x['href'], page_profiles))[::2]\n",
    "    temp = pd.DataFrame({'name':names, 'title':titles, 'location':locations, 'profile':profiles})\n",
    "    \n",
    "    # Filter out members who do not provide information\n",
    "    temp = temp[temp['name'] != 'LinkedIn Member']\n",
    "    if temp.shape[0]<10:\n",
    "        print(len(temp))\n",
    "    # Append new data to df\n",
    "    df = df.append(temp)\n",
    "    \n",
    "     # Stop appending if the number of retrieved records exceeds the limit\n",
    "    if df.shape[0] >= 1000:\n",
    "        break\n",
    "    time.sleep(3)\n",
    "        \n",
    "# Reset dataframe index\n",
    "df.reset_index()\n",
    "\n",
    "# Export results\n",
    "#df.to_csv(\"output_search.csv\", index = False)\n",
    "\n",
    "# Close Selenium\n",
    "browser.quit()"
   ]
  },
  {
   "cell_type": "code",
   "execution_count": 19,
   "metadata": {},
   "outputs": [],
   "source": [
    "# Create values Selenium\n",
    "USERNAME = \"chosson.jeanfranco@gmail.com\" \n",
    "PASSWORD =  \"**********************\"\n",
    "linkedin = 'https://www.linkedin.com'\n",
    "# Open Selenium\n",
    "browser = webdriver.Chrome()\n",
    "browser.get(linkedin)\n",
    "time.sleep(3)\n",
    "# Identify email and password inputs and enter in information\n",
    "email = browser.find_element_by_name('session_key')\n",
    "password = browser.find_element_by_name('session_password')\n",
    "email.send_keys(USERNAME + Keys.RETURN)\n",
    "password.send_keys(PASSWORD + Keys.RETURN)\n",
    "# Go to profile page and scroll to the bottom of the page to load elements of the page\n",
    "time.sleep(3)\n",
    "search = \"https://www.linkedin.com/search/results/people/?facetSchool=%5B%22162070%22%2C%225097000%22%5D&origin=FACETED_SEARCH\"\n",
    "browser.get(search)\n",
    "time.sleep(3)\n",
    "browser.execute_script(\"window.scrollTo(0, document.body.scrollHeight);\")\n",
    "current_url = 'url_placeholder' # this is a placeholder for the URL check\n",
    "# Create empty dataframe\n",
    "df = pd.DataFrame(columns = ['name', 'title', 'location', 'profile'])\n",
    "\n",
    "debut_url = 'https://www.linkedin.com/search/results/people/?facetSchool=%5B%22162070%22%2C%225097000%22%5D&origin=FACETED_SEARCH&page='\n",
    "\n",
    "for i in range(100):\n",
    "    Final_url = debut_url + str(i)\n",
    "    browser.get(Final_url)\n",
    "    time.sleep(3)\n",
    "    \n",
    "    page = BeautifulSoup(browser.page_source, 'lxml')\n",
    "    page_names = page.find_all('span', class_ = 'actor-name')\n",
    "    page_titles = page.find_all('p', class_ = 'subline-level-1')\n",
    "    page_locations = page.find_all('p', class_ = 'subline-level-2')\n",
    "    page_profiles = page.find_all('a', class_ = 'search-result__result-link')\n",
    "    \n",
    "    # Put scraped data into a dataframe\n",
    "    names = list(map(lambda x: x.text, page_names))\n",
    "    titles = list(map(lambda x: x.text.replace('\\n', ''), page_titles))\n",
    "    locations = list(map(lambda x: x.text.replace('\\n', ''), page_locations))\n",
    "    profiles = list(map(lambda x: linkedin + x['href'], page_profiles))[::2]\n",
    "    temp = pd.DataFrame({'name':names, 'title':titles, 'location':locations, 'profile':profiles})\n",
    "    \n",
    "    # Filter out members who do not provide information\n",
    "    temp = temp[temp['name'] != 'LinkedIn Member']\n",
    "    \n",
    "    # Append new data to df\n",
    "    df = df.append(temp)\n",
    "    \n",
    "     # Stop appending if the number of retrieved records exceeds the limit\n",
    "    if df.shape[0] >= 1000:\n",
    "        break\n",
    "    time.sleep(3)\n",
    "        \n",
    "# Reset dataframe index\n",
    "df.reset_index()\n",
    "\n",
    "# Export results\n",
    "df.to_csv(\"output_search1.csv\", index = False)\n",
    "\n",
    "# Close Selenium\n",
    "browser.quit()"
   ]
  },
  {
   "cell_type": "code",
   "execution_count": 22,
   "metadata": {},
   "outputs": [],
   "source": [
    "# Create values Selenium\n",
    "USERNAME = \"chosson.jeanfranco@gmail.com\" \n",
    "PASSWORD =  \"*************************\"\n",
    "linkedin = 'https://www.linkedin.com'\n",
    "# Open Selenium\n",
    "browser = webdriver.Chrome()\n",
    "browser.get(linkedin)\n",
    "time.sleep(3)\n",
    "# Identify email and password inputs and enter in information\n",
    "email = browser.find_element_by_name('session_key')\n",
    "password = browser.find_element_by_name('session_password')\n",
    "email.send_keys(USERNAME + Keys.RETURN)\n",
    "password.send_keys(PASSWORD + Keys.RETURN)\n",
    "# Go to profile page and scroll to the bottom of the page to load elements of the page\n",
    "time.sleep(3)\n",
    "\n",
    "search = \"https://www.linkedin.com/search/results/people/?facetPastCompany=%5B%22163457%22%2C%22767299%22%2C%225654%22%2C%221860%22%2C%221964533%22%5D&origin=FACETED_SEARCH\"\n",
    "browser.get(search)\n",
    "time.sleep(3)\n",
    "browser.execute_script(\"window.scrollTo(0, document.body.scrollHeight);\")\n",
    "current_url = 'url_placeholder' # this is a placeholder for the URL check\n",
    "# Create empty dataframe\n",
    "df = pd.DataFrame(columns = ['name', 'title', 'location', 'profile'])\n",
    "\n",
    "debut_url = 'https://www.linkedin.com/search/results/people/?facetPastCompany=%5B%22163457%22%2C%22767299%22%2C%225654%22%2C%221860%22%2C%221964533%22%5D&origin=FACETED_SEARCH&page='\n",
    "\n",
    "for i in range(100):\n",
    "    Final_url = debut_url + str(i)\n",
    "    browser.get(Final_url)\n",
    "    time.sleep(3)\n",
    "    \n",
    "    page = BeautifulSoup(browser.page_source, 'lxml')\n",
    "    page_names = page.find_all('span', class_ = 'actor-name')\n",
    "    page_titles = page.find_all('p', class_ = 'subline-level-1')\n",
    "    page_locations = page.find_all('p', class_ = 'subline-level-2')\n",
    "    page_profiles = page.find_all('a', class_ = 'search-result__result-link')\n",
    "    \n",
    "    # Put scraped data into a dataframe\n",
    "    names = list(map(lambda x: x.text, page_names))\n",
    "    titles = list(map(lambda x: x.text.replace('\\n', ''), page_titles))\n",
    "    locations = list(map(lambda x: x.text.replace('\\n', ''), page_locations))\n",
    "    profiles = list(map(lambda x: linkedin + x['href'], page_profiles))[::2]\n",
    "    temp = pd.DataFrame({'name':names, 'title':titles, 'location':locations, 'profile':profiles})\n",
    "    \n",
    "    # Filter out members who do not provide information\n",
    "    temp = temp[temp['name'] != 'LinkedIn Member']\n",
    "    \n",
    "    # Append new data to df\n",
    "    df = df.append(temp)\n",
    "    \n",
    "     # Stop appending if the number of retrieved records exceeds the limit\n",
    "    if df.shape[0] >= 1000:\n",
    "        break\n",
    "    time.sleep(3)\n",
    "        \n",
    "# Reset dataframe index\n",
    "df.reset_index()\n",
    "\n",
    "# Export results\n",
    "df.to_csv(\"output_search2.csv\", index = False)\n",
    "\n",
    "# Close Selenium\n",
    "browser.quit()"
   ]
  },
  {
   "cell_type": "markdown",
   "metadata": {},
   "source": [
    "##### Load the three datasets"
   ]
  },
  {
   "cell_type": "code",
   "execution_count": 26,
   "metadata": {},
   "outputs": [],
   "source": [
    "df = pd.read_csv('output_search.csv')\n",
    "df1 = pd.read_csv('output_search1.csv')\n",
    "df2 = pd.read_csv('output_search2.csv')"
   ]
  },
  {
   "cell_type": "code",
   "execution_count": 33,
   "metadata": {},
   "outputs": [],
   "source": [
    "## Concat the three datasets into result\n",
    "result = pd.concat([df, df1, df2], axis=0)"
   ]
  },
  {
   "cell_type": "markdown",
   "metadata": {},
   "source": [
    "###### Drop duplicates values on profile"
   ]
  },
  {
   "cell_type": "code",
   "execution_count": 34,
   "metadata": {},
   "outputs": [],
   "source": [
    "result.drop_duplicates(subset =\"profile\", keep = False, inplace = True)"
   ]
  },
  {
   "cell_type": "code",
   "execution_count": 44,
   "metadata": {},
   "outputs": [],
   "source": [
    "### make sure all the profile is from people in Haiti\n",
    "new_result = result[result['location'].str.contains('Haiti')]"
   ]
  },
  {
   "cell_type": "code",
   "execution_count": 46,
   "metadata": {},
   "outputs": [],
   "source": [
    "## save dataset into a csv file.\n",
    "new_result.to_csv(\"result.csv\", index = False)"
   ]
  },
  {
   "cell_type": "code",
   "execution_count": 47,
   "metadata": {},
   "outputs": [
    {
     "data": {
      "text/plain": [
       "        Haiti                                       1050\n",
       "        Port-au-Prince, Haiti                         57\n",
       "        Port-au-Prince Arrondissement, Haiti           8\n",
       "        Pétionville, Haiti                             4\n",
       "        Gros-Morne Arrondissement, Haiti               1\n",
       "        Jacmel Arrondissement, Haiti                   1\n",
       "        Trou-du-Nord Arrondissement, Haiti             1\n",
       "        Carrefour, Haiti                               1\n",
       "        Les Cayes Arrondissement, Haiti                1\n",
       "        Delmas, Haiti                                  1\n",
       "Name: location, dtype: int64"
      ]
     },
     "execution_count": 47,
     "metadata": {},
     "output_type": "execute_result"
    }
   ],
   "source": [
    "new_result['location'].value_counts()"
   ]
  },
  {
   "cell_type": "code",
   "execution_count": 48,
   "metadata": {},
   "outputs": [
    {
     "data": {
      "text/plain": [
       "(1125, 4)"
      ]
     },
     "execution_count": 48,
     "metadata": {},
     "output_type": "execute_result"
    }
   ],
   "source": [
    "new_result.shape"
   ]
  },
  {
   "cell_type": "markdown",
   "metadata": {},
   "source": [
    "##### We have dataset of 1125 profiles"
   ]
  },
  {
   "cell_type": "markdown",
   "metadata": {},
   "source": [
    "## Step 2"
   ]
  },
  {
   "cell_type": "markdown",
   "metadata": {},
   "source": [
    "From those profiles, i want to get their background, education, (Bachelor degree's or master degree's), their study fields, Their experiences and their skills. \n",
    "i'm gonna do another scrape, to get those informations from the differents profiles i get before."
   ]
  },
  {
   "cell_type": "code",
   "execution_count": null,
   "metadata": {},
   "outputs": [],
   "source": [
    "r = pd.read_csv(\"result.csv\")"
   ]
  },
  {
   "cell_type": "code",
   "execution_count": null,
   "metadata": {},
   "outputs": [],
   "source": [
    "#create empty data frame\n",
    "Exp_df = pd.DataFrame(columns = ['profile', 'exp_title', 'exp_company', 'exp_dates'])\n",
    "Edu_df = pd.DataFrame(columns = ['profile', 'ed_name', 'ed_deg', 'ed_dates'])\n",
    "Ski_df = pd.DataFrame(columns = ['profile', 'skill'])\n",
    "\n",
    "tcounter = 0 \n",
    "#Create big loop\n",
    "#for link in r.loc[0:5,'profile']:\n",
    "for link in r.loc[:,'profile']:\n",
    "    if link == 'https://www.linkedin.com#':     #if it equal link then skip\n",
    "        continue \n",
    "    time.sleep(3)\n",
    "# This section is where you put in the profile link (loaded from the csv file) and browse to it\n",
    "    search = link\n",
    "    browser.get(search)\n",
    "    time.sleep(5)\n",
    "    browser.find_element_by_tag_name('body').send_keys(Keys.PAGE_DOWN)\n",
    "    time.sleep(1)\n",
    "    browser.find_element_by_tag_name('body').send_keys(Keys.PAGE_DOWN)\n",
    "    time.sleep(1)\n",
    "    browser.find_element_by_tag_name('body').send_keys(Keys.PAGE_DOWN)\n",
    "    time.sleep(1)\n",
    "    browser.find_element_by_tag_name('body').send_keys(Keys.PAGE_DOWN)\n",
    "    time.sleep(1)\n",
    "    browser.find_element_by_tag_name('body').send_keys(Keys.PAGE_DOWN)\n",
    "    #browser.execute_script(\"window.scrollTo(0, document.body.scrollHeight);\")\n",
    "    #raw = urlopen(link).read()\n",
    "    #page = BeautifulSoup(raw, \"html.parser\")\n",
    "    page = BeautifulSoup(browser.page_source, 'lxml')\n",
    "    \n",
    "    tcounter += 1\n",
    "    \n",
    "    if tcounter % 100 == 0:\n",
    "        time.sleep(1800)\n",
    "    \n",
    "#Experience Section  \n",
    "    titles = page.find_all('div', class_ = \"pv-entity__position-group-pager\")\n",
    "    companies = page.find_all('span', class_ = \"pv-entity__secondary-title\")\n",
    "    dates = page.find_all('h4', class_ = \"pv-entity__date-range\")\n",
    "\n",
    "    #Put scraped data into exp_df\n",
    "\n",
    "    arraylen1 = len(page.find_all('div', class_ = \"pv-entity__position-group-pager\"))\n",
    "\n",
    "    profile = link\n",
    "    exp_titles = list(map(lambda x: x.h3.text.strip(), titles))[0:arraylen1]\n",
    "    exp_companies = list(map(lambda x: x.text.strip(), companies))[0:arraylen1]\n",
    "    exp_dates = list(map(lambda x: x.text.strip().split('\\n')[-1], dates))[0:arraylen1]\n",
    "    \n",
    " #Education Section \n",
    "    institution = page.find_all('div', class_ = \"pv-entity__degree-info\")\n",
    "    degree = page.find_all('p', class_ = \"pv-entity__degree-name\")\n",
    "    dates = page.find_all('p', class_ = \"pv-entity__dates\")\n",
    " \n",
    "    #Put scraped data into edu_df\n",
    "    \n",
    "    arraylen2 = len(page.find_all('div', class_ = \"pv-entity__degree-info\"))\n",
    "\n",
    "    profile = link\n",
    "    ed_name = list(map(lambda x: x.text.strip().split('\\n')[-1], institution))[0:arraylen2]\n",
    "    ed_deg = list(map(lambda x: x.text.strip().split('\\n')[-1], degree))[0:arraylen2]\n",
    "    ed_dates = list(map(lambda x: x.text.strip().split('\\n')[-1], dates))[0:arraylen2]\n",
    "    if len(ed_dates) < arraylen2:\n",
    "        ed_dates = 'NA'\n",
    " #Skill Section \n",
    "    skill = page.find_all('span', class_ = \"pv-skill-category-entity__name-text\")\n",
    "    \n",
    "    #Put scraped data into a ski_df\n",
    "    \n",
    "    arraylen3 = len(page.find_all('span', class_ = \"pv-skill-category-entity__name-text\"))\n",
    "        \n",
    "    profile = link\n",
    "    skill = list(map(lambda x: x.text.strip(), skill))[0:arraylen3]\n",
    "    temp1 = pd.DataFrame({'profile':profile, 'exp_title':exp_titles, 'exp_company':exp_companies, 'exp_dates':exp_dates})\n",
    "    temp2 = pd.DataFrame({'profile':profile, 'ed_name':ed_name, 'ed_deg':ed_deg, 'ed_dates':ed_dates}) \n",
    "    temp3 = pd.DataFrame({'profile':profile, 'skill':skill})\n",
    "    Exp_df = Exp_df.append(temp1)\n",
    "    Edu_df = Edu_df.append(temp2)\n",
    "    Ski_df = Ski_df.append(temp3)"
   ]
  },
  {
   "cell_type": "markdown",
   "metadata": {},
   "source": [
    "I've been dealing with linkedIn's restrictions such as captcha, and I'm being asked to re-authenticate after an amount of request. \n",
    "so i need to repeat the process several times. "
   ]
  },
  {
   "cell_type": "code",
   "execution_count": null,
   "metadata": {},
   "outputs": [],
   "source": [
    "#create empty data frame\n",
    "Exp_df = pd.DataFrame(columns = ['profile', 'exp_title', 'exp_company', 'exp_dates'])\n",
    "Edu_df = pd.DataFrame(columns = ['profile', 'ed_name', 'ed_deg', 'ed_dates'])\n",
    "Ski_df = pd.DataFrame(columns = ['profile', 'skill'])\n",
    "\n",
    "tcounter = 0 \n",
    "#Create big loop\n",
    "#for link in r.loc[0:5,'profile']:\n",
    "for link in r.loc[:,'profile']:\n",
    "    if link == 'https://www.linkedin.com#':     #if it equal link then skip\n",
    "        continue \n",
    "    time.sleep(5)\n",
    "# This section is where you put in the profile link (loaded from the csv file) and browse to it\n",
    "    search = link\n",
    "    browser.get(search)\n",
    "    time.sleep(5)\n",
    "    browser.find_element_by_tag_name('body').send_keys(Keys.PAGE_DOWN)\n",
    "    time.sleep(1)\n",
    "    browser.find_element_by_tag_name('body').send_keys(Keys.PAGE_DOWN)\n",
    "    time.sleep(1)\n",
    "    browser.find_element_by_tag_name('body').send_keys(Keys.PAGE_DOWN)\n",
    "    time.sleep(1)\n",
    "    browser.find_element_by_tag_name('body').send_keys(Keys.PAGE_DOWN)\n",
    "    time.sleep(1)\n",
    "    browser.find_element_by_tag_name('body').send_keys(Keys.PAGE_DOWN)\n",
    "    #browser.execute_script(\"window.scrollTo(0, document.body.scrollHeight);\")\n",
    "    #raw = urlopen(link).read()\n",
    "    #page = BeautifulSoup(raw, \"html.parser\")\n",
    "    page = BeautifulSoup(browser.page_source, 'lxml')\n",
    "    \n",
    "    tcounter += 1\n",
    "    \n",
    "    if tcounter % 100 == 0:\n",
    "        time.sleep(1000)\n",
    "    \n",
    "    \n",
    "#Experience Section\n",
    "    tall = page.find_all('li', class_ = \"pv-entity__position-group-pager pv-profile-section__list-item ember-view\")\n",
    "    titles = []\n",
    "    companies = []\n",
    "    dates = []\n",
    "    \n",
    "    for li in tall:\n",
    "        _title = li.find_all('h3','t-16 t-black t-bold')\n",
    "        _companies = li.find_all('p','pv-entity__secondary-title t-14 t-black t-normal')\n",
    "        _dates = li.find_all('span', class_ = \"pv-entity__bullet-item-v2\")\n",
    "        if _title:\n",
    "            titles.append(_title[0].get_text().strip()) \n",
    "        else:\n",
    "             titles.append('')\n",
    "        if _companies:\n",
    "            companies.append(_companies[0].get_text().strip()) \n",
    "        else:\n",
    "             companies.append('')\n",
    "        if _dates:\n",
    "            dates.append(_dates[0].get_text().strip()) \n",
    "        else:\n",
    "             dates.append('')\n",
    "        print(companies)\n",
    "    #Put scraped data into exp_df\n",
    "\n",
    "\n",
    "    profile = link\n",
    "    exp_titles = titles\n",
    "    exp_companies =  companies\n",
    "    exp_dates = dates\n",
    "    \n",
    "    #Education Section\n",
    "    tall = page.find_all('li', class_ = \"pv-profile-section__list-item pv-education-entity pv-profile-section__card-item ember-view\")\n",
    "    study_name = [] \n",
    "    degree = []\n",
    "    dates = []\n",
    "    \n",
    "    for li in tall:\n",
    "        _std_name = li.find_all('p','pv-entity__secondary-title pv-entity__fos t-14 t-black t-normal')\n",
    "        _deg = li.find_all('p','pv-entity__secondary-title pv-entity__degree-name t-14 t-black t-normal')\n",
    "        _dates = li.find_all('p', class_ = \"pv-entity__dates t-14 t-black--light t-normal  time\")\n",
    "        if _std_name:\n",
    "            _study_name = _std_name[0].find_all('span', 'pv-entity__comma-item')\n",
    "            study_name.append(_study_name[0].get_text().strip()) \n",
    "        else:\n",
    "             study_name.append('')\n",
    "        if _deg:\n",
    "            _degree = _deg[0].find_all('span', 'pv-entity__comma-item')\n",
    "            degree.append(_degree[0].get_text().strip()) \n",
    "        else:\n",
    "             degree.append('')\n",
    "        if _dates:\n",
    "            dates.append(_dates[0].get_text().strip()) \n",
    "        else:\n",
    "             dates.append('')\n",
    "                \n",
    "    ed_name = study_name\n",
    "    ed_deg = degree\n",
    "    ed_dates = dates\n",
    "                \n",
    "    #Skill Section \n",
    "    tall = page.find_all('li', class_ = \"pv-skill-category-entity__top-skill pv-skill-category-entity pb3 pt4 pv-skill-endorsedSkill-entity relative ember-view\")\n",
    "    skill = []\n",
    "    \n",
    "    for li in tall:\n",
    "        _skill = li.find_all('span','pv-skill-category-entity__name-text t-16 t-black t-bold')\n",
    "        if _skill:\n",
    "            skill.append(_skill[0].get_text().strip()) \n",
    "        else:\n",
    "             skill.append('')\n",
    "\n",
    "        \n",
    "    temp1 = pd.DataFrame({'profile':profile, 'exp_title':exp_titles, 'exp_company':exp_companies, 'exp_dates':exp_dates})\n",
    "    temp2 = pd.DataFrame({'profile':profile, 'ed_name':ed_name, 'ed_deg':ed_deg, 'ed_dates':ed_dates}) \n",
    "    temp3 = pd.DataFrame({'profile':profile, 'skill':skill})\n",
    "    Exp_df = Exp_df.append(temp1)\n",
    "    Edu_df = Edu_df.append(temp2)\n",
    "    Ski_df = Ski_df.append(temp3)\n",
    "    print(link, 'completed')\n",
    "   \n",
    "\n",
    "Exp_df.to_csv('experience.csv')\n",
    "Edu_df.to_csv('education.csv')\n",
    "Ski_df.to_csv('skill.csv')"
   ]
  },
  {
   "cell_type": "markdown",
   "metadata": {},
   "source": [
    "### I was able to scrape 559 profiles"
   ]
  },
  {
   "cell_type": "code",
   "execution_count": null,
   "metadata": {},
   "outputs": [],
   "source": [
    "newR = r.tail(566)"
   ]
  },
  {
   "cell_type": "code",
   "execution_count": null,
   "metadata": {},
   "outputs": [],
   "source": [
    "#create empty data frame\n",
    "newExp_df = pd.DataFrame(columns = ['profile', 'exp_title', 'exp_company', 'exp_dates'])\n",
    "newEdu_df = pd.DataFrame(columns = ['profile', 'ed_name', 'ed_deg', 'ed_dates'])\n",
    "newSki_df = pd.DataFrame(columns = ['profile', 'skill'])\n",
    "\n",
    "tcounter = 0 \n",
    "#Create big loop\n",
    "#for link in r.loc[0:5,'profile']:\n",
    "for link in newR.loc[:,'profile']:\n",
    "    if link == 'https://www.linkedin.com#':     #if it equal link then skip\n",
    "        continue \n",
    "    time.sleep(5)\n",
    "# This section is where you put in the profile link (loaded from the csv file) and browse to it\n",
    "    search = link\n",
    "    browser.get(search)\n",
    "    time.sleep(5)\n",
    "    browser.find_element_by_tag_name('body').send_keys(Keys.PAGE_DOWN)\n",
    "    time.sleep(1)\n",
    "    browser.find_element_by_tag_name('body').send_keys(Keys.PAGE_DOWN)\n",
    "    time.sleep(1)\n",
    "    browser.find_element_by_tag_name('body').send_keys(Keys.PAGE_DOWN)\n",
    "    time.sleep(1)\n",
    "    browser.find_element_by_tag_name('body').send_keys(Keys.PAGE_DOWN)\n",
    "    time.sleep(1)\n",
    "    browser.find_element_by_tag_name('body').send_keys(Keys.PAGE_DOWN)\n",
    "    #browser.execute_script(\"window.scrollTo(0, document.body.scrollHeight);\")\n",
    "    #raw = urlopen(link).read()\n",
    "    #page = BeautifulSoup(raw, \"html.parser\")\n",
    "    page = BeautifulSoup(browser.page_source, 'lxml')\n",
    "    \n",
    "    tcounter += 1\n",
    "    \n",
    "    if tcounter % 100 == 0:\n",
    "        time.sleep(1000)\n",
    "    \n",
    "    \n",
    "#Experience Section\n",
    "    tall = page.find_all('li', class_ = \"pv-entity__position-group-pager pv-profile-section__list-item ember-view\")\n",
    "    titles = []\n",
    "    companies = []\n",
    "    dates = []\n",
    "    \n",
    "    for li in tall:\n",
    "        _title = li.find_all('h3','t-16 t-black t-bold')\n",
    "        _companies = li.find_all('p','pv-entity__secondary-title t-14 t-black t-normal')\n",
    "        _dates = li.find_all('span', class_ = \"pv-entity__bullet-item-v2\")\n",
    "        if _title:\n",
    "            titles.append(_title[0].get_text().strip()) \n",
    "        else:\n",
    "             titles.append('')\n",
    "        if _companies:\n",
    "            companies.append(_companies[0].get_text().strip()) \n",
    "        else:\n",
    "             companies.append('')\n",
    "        if _dates:\n",
    "            dates.append(_dates[0].get_text().strip()) \n",
    "        else:\n",
    "             dates.append('')\n",
    "        print(companies)\n",
    "    #Put scraped data into exp_df\n",
    "\n",
    "\n",
    "    profile = link\n",
    "    exp_titles = titles\n",
    "    exp_companies =  companies\n",
    "    exp_dates = dates\n",
    "    \n",
    "    #Education Section\n",
    "    tall = page.find_all('li', class_ = \"pv-profile-section__list-item pv-education-entity pv-profile-section__card-item ember-view\")\n",
    "    study_name = [] \n",
    "    degree = []\n",
    "    dates = []\n",
    "    \n",
    "    for li in tall:\n",
    "        _std_name = li.find_all('p','pv-entity__secondary-title pv-entity__fos t-14 t-black t-normal')\n",
    "        _deg = li.find_all('p','pv-entity__secondary-title pv-entity__degree-name t-14 t-black t-normal')\n",
    "        _dates = li.find_all('p', class_ = \"pv-entity__dates t-14 t-black--light t-normal  time\")\n",
    "        if _std_name:\n",
    "            _study_name = _std_name[0].find_all('span', 'pv-entity__comma-item')\n",
    "            study_name.append(_study_name[0].get_text().strip()) \n",
    "        else:\n",
    "             study_name.append('')\n",
    "        if _deg:\n",
    "            _degree = _deg[0].find_all('span', 'pv-entity__comma-item')\n",
    "            degree.append(_degree[0].get_text().strip()) \n",
    "        else:\n",
    "             degree.append('')\n",
    "        if _dates:\n",
    "            dates.append(_dates[0].get_text().strip()) \n",
    "        else:\n",
    "             dates.append('')\n",
    "                \n",
    "    ed_name = study_name\n",
    "    ed_deg = degree\n",
    "    ed_dates = dates\n",
    "                \n",
    "    #Skill Section \n",
    "    tall = page.find_all('li', class_ = \"pv-skill-category-entity__top-skill pv-skill-category-entity pb3 pt4 pv-skill-endorsedSkill-entity relative ember-view\")\n",
    "    skill = []\n",
    "    \n",
    "    for li in tall:\n",
    "        _skill = li.find_all('span','pv-skill-category-entity__name-text t-16 t-black t-bold')\n",
    "        if _skill:\n",
    "            skill.append(_skill[0].get_text().strip()) \n",
    "        else:\n",
    "             skill.append('')\n",
    "\n",
    "        \n",
    "    temp1 = pd.DataFrame({'profile':profile, 'exp_title':exp_titles, 'exp_company':exp_companies, 'exp_dates':exp_dates})\n",
    "    temp2 = pd.DataFrame({'profile':profile, 'ed_name':ed_name, 'ed_deg':ed_deg, 'ed_dates':ed_dates}) \n",
    "    temp3 = pd.DataFrame({'profile':profile, 'skill':skill})\n",
    "    newExp_df = newExp_df.append(temp1)\n",
    "    newEdu_df = newEdu_df.append(temp2)\n",
    "    newSki_df = newSki_df.append(temp3)\n",
    "    print(link, 'completed')\n",
    "   \n",
    "\n",
    "newExp_df.to_csv('experience2.csv')\n",
    "newEdu_df.to_csv('education2.csv')\n",
    "newSki_df.to_csv('skill2.csv')"
   ]
  },
  {
   "cell_type": "markdown",
   "metadata": {},
   "source": [
    "### for the next time i was able to get informations from 256 others profiles."
   ]
  },
  {
   "cell_type": "code",
   "execution_count": null,
   "metadata": {},
   "outputs": [],
   "source": [
    "new_R = newR.tail(310)"
   ]
  },
  {
   "cell_type": "code",
   "execution_count": null,
   "metadata": {},
   "outputs": [],
   "source": [
    "#create empty data frame\n",
    "newExp_df = pd.DataFrame(columns = ['profile', 'exp_title', 'exp_company', 'exp_dates'])\n",
    "newEdu_df = pd.DataFrame(columns = ['profile', 'ed_name', 'ed_deg', 'ed_dates'])\n",
    "newSki_df = pd.DataFrame(columns = ['profile', 'skill'])\n",
    "\n",
    "tcounter = 0 \n",
    "#Create big loop\n",
    "#for link in r.loc[0:5,'profile']:\n",
    "for link in new_R.loc[:,'profile']:\n",
    "    if link == 'https://www.linkedin.com#':     #if it equal link then skip\n",
    "        continue \n",
    "    time.sleep(5)\n",
    "# This section is where you put in the profile link (loaded from the csv file) and browse to it\n",
    "    search = link\n",
    "    browser.get(search)\n",
    "    time.sleep(5)\n",
    "    browser.find_element_by_tag_name('body').send_keys(Keys.PAGE_DOWN)\n",
    "    time.sleep(1)\n",
    "    browser.find_element_by_tag_name('body').send_keys(Keys.PAGE_DOWN)\n",
    "    time.sleep(1)\n",
    "    browser.find_element_by_tag_name('body').send_keys(Keys.PAGE_DOWN)\n",
    "    time.sleep(1)\n",
    "    browser.find_element_by_tag_name('body').send_keys(Keys.PAGE_DOWN)\n",
    "    time.sleep(1)\n",
    "    browser.find_element_by_tag_name('body').send_keys(Keys.PAGE_DOWN)\n",
    "    #browser.execute_script(\"window.scrollTo(0, document.body.scrollHeight);\")\n",
    "    #raw = urlopen(link).read()\n",
    "    #page = BeautifulSoup(raw, \"html.parser\")\n",
    "    page = BeautifulSoup(browser.page_source, 'lxml')\n",
    "    \n",
    "    tcounter += 1\n",
    "    \n",
    "    if tcounter % 100 == 0:\n",
    "        time.sleep(900)\n",
    "    \n",
    "    \n",
    "#Experience Section\n",
    "    tall = page.find_all('li', class_ = \"pv-entity__position-group-pager pv-profile-section__list-item ember-view\")\n",
    "    titles = []\n",
    "    companies = []\n",
    "    dates = []\n",
    "    \n",
    "    for li in tall:\n",
    "        _title = li.find_all('h3','t-16 t-black t-bold')\n",
    "        _companies = li.find_all('p','pv-entity__secondary-title t-14 t-black t-normal')\n",
    "        _dates = li.find_all('span', class_ = \"pv-entity__bullet-item-v2\")\n",
    "        if _title:\n",
    "            titles.append(_title[0].get_text().strip()) \n",
    "        else:\n",
    "             titles.append('')\n",
    "        if _companies:\n",
    "            companies.append(_companies[0].get_text().strip()) \n",
    "        else:\n",
    "             companies.append('')\n",
    "        if _dates:\n",
    "            dates.append(_dates[0].get_text().strip()) \n",
    "        else:\n",
    "             dates.append('')\n",
    "        print(companies)\n",
    "    #Put scraped data into exp_df\n",
    "\n",
    "\n",
    "    profile = link\n",
    "    exp_titles = titles\n",
    "    exp_companies =  companies\n",
    "    exp_dates = dates\n",
    "    \n",
    "    #Education Section\n",
    "    tall = page.find_all('li', class_ = \"pv-profile-section__list-item pv-education-entity pv-profile-section__card-item ember-view\")\n",
    "    study_name = [] \n",
    "    degree = []\n",
    "    dates = []\n",
    "    \n",
    "    for li in tall:\n",
    "        _std_name = li.find_all('p','pv-entity__secondary-title pv-entity__fos t-14 t-black t-normal')\n",
    "        _deg = li.find_all('p','pv-entity__secondary-title pv-entity__degree-name t-14 t-black t-normal')\n",
    "        _dates = li.find_all('p', class_ = \"pv-entity__dates t-14 t-black--light t-normal  time\")\n",
    "        if _std_name:\n",
    "            _study_name = _std_name[0].find_all('span', 'pv-entity__comma-item')\n",
    "            study_name.append(_study_name[0].get_text().strip()) \n",
    "        else:\n",
    "             study_name.append('')\n",
    "        if _deg:\n",
    "            _degree = _deg[0].find_all('span', 'pv-entity__comma-item')\n",
    "            degree.append(_degree[0].get_text().strip()) \n",
    "        else:\n",
    "             degree.append('')\n",
    "        if _dates:\n",
    "            dates.append(_dates[0].get_text().strip()) \n",
    "        else:\n",
    "             dates.append('')\n",
    "                \n",
    "    ed_name = study_name\n",
    "    ed_deg = degree\n",
    "    ed_dates = dates\n",
    "                \n",
    "    #Skill Section \n",
    "    tall = page.find_all('li', class_ = \"pv-skill-category-entity__top-skill pv-skill-category-entity pb3 pt4 pv-skill-endorsedSkill-entity relative ember-view\")\n",
    "    skill = []\n",
    "    \n",
    "    for li in tall:\n",
    "        _skill = li.find_all('span','pv-skill-category-entity__name-text t-16 t-black t-bold')\n",
    "        if _skill:\n",
    "            skill.append(_skill[0].get_text().strip()) \n",
    "        else:\n",
    "             skill.append('')\n",
    "\n",
    "        \n",
    "    temp1 = pd.DataFrame({'profile':profile, 'exp_title':exp_titles, 'exp_company':exp_companies, 'exp_dates':exp_dates})\n",
    "    temp2 = pd.DataFrame({'profile':profile, 'ed_name':ed_name, 'ed_deg':ed_deg, 'ed_dates':ed_dates}) \n",
    "    temp3 = pd.DataFrame({'profile':profile, 'skill':skill})\n",
    "    newExp_df = newExp_df.append(temp1)\n",
    "    newEdu_df = newEdu_df.append(temp2)\n",
    "    newSki_df = newSki_df.append(temp3)\n",
    "    print(link, 'completed')\n",
    "    print(tcounter)\n",
    "    if tcounter  == 210:\n",
    "        break\n",
    "   \n",
    "\n",
    "newExp_df.to_csv('experience3.csv')\n",
    "newEdu_df.to_csv('education3.csv')\n",
    "newSki_df.to_csv('skill3.csv')"
   ]
  },
  {
   "cell_type": "markdown",
   "metadata": {},
   "source": [
    "### In that time i was able to get informations from 200 profiles."
   ]
  },
  {
   "cell_type": "code",
   "execution_count": null,
   "metadata": {},
   "outputs": [],
   "source": [
    "done_R = new_R.tail(110)"
   ]
  },
  {
   "cell_type": "code",
   "execution_count": null,
   "metadata": {},
   "outputs": [],
   "source": [
    "#create empty data frame\n",
    "newExp_df = pd.DataFrame(columns = ['profile', 'exp_title', 'exp_company', 'exp_dates'])\n",
    "newEdu_df = pd.DataFrame(columns = ['profile', 'ed_name', 'ed_deg', 'ed_dates'])\n",
    "newSki_df = pd.DataFrame(columns = ['profile', 'skill'])\n",
    "\n",
    "tcounter = 0 \n",
    "#Create big loop\n",
    "#for link in r.loc[0:5,'profile']:\n",
    "for link in done_R.loc[:,'profile']:\n",
    "    if link == 'https://www.linkedin.com#':     #if it equal link then skip\n",
    "        continue \n",
    "    time.sleep(5)\n",
    "# This section is where you put in the profile link (loaded from the csv file) and browse to it\n",
    "    search = link\n",
    "    browser.get(search)\n",
    "    time.sleep(5)\n",
    "    browser.find_element_by_tag_name('body').send_keys(Keys.PAGE_DOWN)\n",
    "    time.sleep(1)\n",
    "    browser.find_element_by_tag_name('body').send_keys(Keys.PAGE_DOWN)\n",
    "    time.sleep(1)\n",
    "    browser.find_element_by_tag_name('body').send_keys(Keys.PAGE_DOWN)\n",
    "    time.sleep(1)\n",
    "    browser.find_element_by_tag_name('body').send_keys(Keys.PAGE_DOWN)\n",
    "    time.sleep(1)\n",
    "    browser.find_element_by_tag_name('body').send_keys(Keys.PAGE_DOWN)\n",
    "    #browser.execute_script(\"window.scrollTo(0, document.body.scrollHeight);\")\n",
    "    #raw = urlopen(link).read()\n",
    "    #page = BeautifulSoup(raw, \"html.parser\")\n",
    "    page = BeautifulSoup(browser.page_source, 'lxml')\n",
    "    \n",
    "    tcounter += 1\n",
    "    \n",
    "    if tcounter % 100 == 0:\n",
    "        time.sleep(900)\n",
    "    \n",
    "    \n",
    "#Experience Section\n",
    "    tall = page.find_all('li', class_ = \"pv-entity__position-group-pager pv-profile-section__list-item ember-view\")\n",
    "    titles = []\n",
    "    companies = []\n",
    "    dates = []\n",
    "    \n",
    "    for li in tall:\n",
    "        _title = li.find_all('h3','t-16 t-black t-bold')\n",
    "        _companies = li.find_all('p','pv-entity__secondary-title t-14 t-black t-normal')\n",
    "        _dates = li.find_all('span', class_ = \"pv-entity__bullet-item-v2\")\n",
    "        if _title:\n",
    "            titles.append(_title[0].get_text().strip()) \n",
    "        else:\n",
    "             titles.append('')\n",
    "        if _companies:\n",
    "            companies.append(_companies[0].get_text().strip()) \n",
    "        else:\n",
    "             companies.append('')\n",
    "        if _dates:\n",
    "            dates.append(_dates[0].get_text().strip()) \n",
    "        else:\n",
    "             dates.append('')\n",
    "    #Put scraped data into exp_df\n",
    "\n",
    "\n",
    "    profile = link\n",
    "    exp_titles = titles\n",
    "    exp_companies =  companies\n",
    "    exp_dates = dates\n",
    "    \n",
    "    #Education Section\n",
    "    tall = page.find_all('li', class_ = \"pv-profile-section__list-item pv-education-entity pv-profile-section__card-item ember-view\")\n",
    "    study_name = [] \n",
    "    degree = []\n",
    "    dates = []\n",
    "    \n",
    "    for li in tall:\n",
    "        _std_name = li.find_all('p','pv-entity__secondary-title pv-entity__fos t-14 t-black t-normal')\n",
    "        _deg = li.find_all('p','pv-entity__secondary-title pv-entity__degree-name t-14 t-black t-normal')\n",
    "        _dates = li.find_all('p', class_ = \"pv-entity__dates t-14 t-black--light t-normal  time\")\n",
    "        if _std_name:\n",
    "            _study_name = _std_name[0].find_all('span', 'pv-entity__comma-item')\n",
    "            study_name.append(_study_name[0].get_text().strip()) \n",
    "        else:\n",
    "             study_name.append('')\n",
    "        if _deg:\n",
    "            _degree = _deg[0].find_all('span', 'pv-entity__comma-item')\n",
    "            degree.append(_degree[0].get_text().strip()) \n",
    "        else:\n",
    "             degree.append('')\n",
    "        if _dates:\n",
    "            dates.append(_dates[0].get_text().strip()) \n",
    "        else:\n",
    "             dates.append('')\n",
    "                \n",
    "    ed_name = study_name\n",
    "    ed_deg = degree\n",
    "    ed_dates = dates\n",
    "                \n",
    "    #Skill Section \n",
    "    tall = page.find_all('li', class_ = \"pv-skill-category-entity__top-skill pv-skill-category-entity pb3 pt4 pv-skill-endorsedSkill-entity relative ember-view\")\n",
    "    skill = []\n",
    "    \n",
    "    for li in tall:\n",
    "        _skill = li.find_all('span','pv-skill-category-entity__name-text t-16 t-black t-bold')\n",
    "        if _skill:\n",
    "            skill.append(_skill[0].get_text().strip()) \n",
    "        else:\n",
    "             skill.append('')\n",
    "\n",
    "        \n",
    "    temp1 = pd.DataFrame({'profile':profile, 'exp_title':exp_titles, 'exp_company':exp_companies, 'exp_dates':exp_dates})\n",
    "    temp2 = pd.DataFrame({'profile':profile, 'ed_name':ed_name, 'ed_deg':ed_deg, 'ed_dates':ed_dates}) \n",
    "    temp3 = pd.DataFrame({'profile':profile, 'skill':skill})\n",
    "    newExp_df = newExp_df.append(temp1)\n",
    "    newEdu_df = newEdu_df.append(temp2)\n",
    "    newSki_df = newSki_df.append(temp3)\n",
    "    print(link, 'completed')\n",
    "    print(tcounter)\n",
    "   \n",
    "\n",
    "newExp_df.to_csv('experience4.csv')\n",
    "newEdu_df.to_csv('education4.csv')\n",
    "newSki_df.to_csv('skill4.csv')"
   ]
  },
  {
   "cell_type": "code",
   "execution_count": null,
   "metadata": {},
   "outputs": [],
   "source": [
    " browser.quit()"
   ]
  },
  {
   "cell_type": "markdown",
   "metadata": {},
   "source": [
    "### Finally i was able to get informations from all the profiles, of course those that had informations. Then i have 12 datasets, 4 for each, experience, education and skill."
   ]
  },
  {
   "cell_type": "markdown",
   "metadata": {},
   "source": [
    "## step 3"
   ]
  },
  {
   "cell_type": "markdown",
   "metadata": {},
   "source": [
    "load these datasets in 3 datasets, for each category."
   ]
  },
  {
   "cell_type": "code",
   "execution_count": 101,
   "metadata": {},
   "outputs": [],
   "source": [
    "csv_file_list = [\"experience.csv\", \"experience2.csv\", \"experience3.csv\", \"experience4.csv\"]\n",
    "\n",
    "list_of_dataframes = []\n",
    "for filename in csv_file_list:\n",
    "    list_of_dataframes.append(pd.read_csv(filename))\n",
    "\n",
    "experience_df = pd.concat(list_of_dataframes)\n",
    "\n",
    "csv_file_list = [\"education.csv\", \"education2.csv\", \"education3.csv\", \"education4.csv\"]\n",
    "\n",
    "list_of_dataframes = []\n",
    "for filename in csv_file_list:\n",
    "    list_of_dataframes.append(pd.read_csv(filename))\n",
    "\n",
    "education_df = pd.concat(list_of_dataframes)\n",
    "\n",
    "csv_file_list = [\"skill.csv\", \"skill2.csv\", \"skill3.csv\", \"skill4.csv\"]\n",
    "\n",
    "list_of_dataframes = []\n",
    "for filename in csv_file_list:\n",
    "    list_of_dataframes.append(pd.read_csv(filename))\n",
    "\n",
    "skill_df = pd.concat(list_of_dataframes)"
   ]
  },
  {
   "cell_type": "code",
   "execution_count": 102,
   "metadata": {},
   "outputs": [],
   "source": [
    "experience_df.drop('Unnamed: 0', axis = 1, inplace = True)\n",
    "education_df.drop('Unnamed: 0', axis = 1, inplace = True)\n",
    "skill_df.drop('Unnamed: 0', axis = 1, inplace = True)"
   ]
  },
  {
   "cell_type": "code",
   "execution_count": 103,
   "metadata": {},
   "outputs": [
    {
     "data": {
      "text/html": [
       "<div>\n",
       "<style scoped>\n",
       "    .dataframe tbody tr th:only-of-type {\n",
       "        vertical-align: middle;\n",
       "    }\n",
       "\n",
       "    .dataframe tbody tr th {\n",
       "        vertical-align: top;\n",
       "    }\n",
       "\n",
       "    .dataframe thead th {\n",
       "        text-align: right;\n",
       "    }\n",
       "</style>\n",
       "<table border=\"1\" class=\"dataframe\">\n",
       "  <thead>\n",
       "    <tr style=\"text-align: right;\">\n",
       "      <th></th>\n",
       "      <th>profile</th>\n",
       "      <th>exp_title</th>\n",
       "      <th>exp_company</th>\n",
       "      <th>exp_dates</th>\n",
       "    </tr>\n",
       "  </thead>\n",
       "  <tbody>\n",
       "    <tr>\n",
       "      <td>0</td>\n",
       "      <td>https://www.linkedin.com/in/joseph-melior-3a4a...</td>\n",
       "      <td>CEO</td>\n",
       "      <td>CHOCOMAX-HAITI</td>\n",
       "      <td>6 yrs 7 mos</td>\n",
       "    </tr>\n",
       "    <tr>\n",
       "      <td>1</td>\n",
       "      <td>https://www.linkedin.com/in/alexandre-michel-0...</td>\n",
       "      <td>Rédacteur</td>\n",
       "      <td>Journal l'Union, Haïti</td>\n",
       "      <td>2 yrs 9 mos</td>\n",
       "    </tr>\n",
       "    <tr>\n",
       "      <td>2</td>\n",
       "      <td>https://www.linkedin.com/in/alexandre-michel-0...</td>\n",
       "      <td>Directeur exécutif</td>\n",
       "      <td>Tras-Haïti\\n        Self-employed</td>\n",
       "      <td>2 yrs 5 mos</td>\n",
       "    </tr>\n",
       "    <tr>\n",
       "      <td>3</td>\n",
       "      <td>https://www.linkedin.com/in/biento-jacques-871...</td>\n",
       "      <td>Co-Founder</td>\n",
       "      <td>GBI Haiti</td>\n",
       "      <td>1 yr 9 mos</td>\n",
       "    </tr>\n",
       "    <tr>\n",
       "      <td>4</td>\n",
       "      <td>https://www.linkedin.com/in/valery-fils-aime-6...</td>\n",
       "      <td>Co-fondateur et Resp. de partenariats</td>\n",
       "      <td>Haiti Climat\\n        Part-time</td>\n",
       "      <td>2 yrs 10 mos</td>\n",
       "    </tr>\n",
       "  </tbody>\n",
       "</table>\n",
       "</div>"
      ],
      "text/plain": [
       "                                             profile  \\\n",
       "0  https://www.linkedin.com/in/joseph-melior-3a4a...   \n",
       "1  https://www.linkedin.com/in/alexandre-michel-0...   \n",
       "2  https://www.linkedin.com/in/alexandre-michel-0...   \n",
       "3  https://www.linkedin.com/in/biento-jacques-871...   \n",
       "4  https://www.linkedin.com/in/valery-fils-aime-6...   \n",
       "\n",
       "                               exp_title                        exp_company  \\\n",
       "0                                    CEO                     CHOCOMAX-HAITI   \n",
       "1                              Rédacteur             Journal l'Union, Haïti   \n",
       "2                     Directeur exécutif  Tras-Haïti\\n        Self-employed   \n",
       "3                             Co-Founder                          GBI Haiti   \n",
       "4  Co-fondateur et Resp. de partenariats    Haiti Climat\\n        Part-time   \n",
       "\n",
       "      exp_dates  \n",
       "0   6 yrs 7 mos  \n",
       "1   2 yrs 9 mos  \n",
       "2   2 yrs 5 mos  \n",
       "3    1 yr 9 mos  \n",
       "4  2 yrs 10 mos  "
      ]
     },
     "execution_count": 103,
     "metadata": {},
     "output_type": "execute_result"
    }
   ],
   "source": [
    "experience_df.head()"
   ]
  },
  {
   "cell_type": "code",
   "execution_count": 104,
   "metadata": {},
   "outputs": [
    {
     "data": {
      "text/html": [
       "<div>\n",
       "<style scoped>\n",
       "    .dataframe tbody tr th:only-of-type {\n",
       "        vertical-align: middle;\n",
       "    }\n",
       "\n",
       "    .dataframe tbody tr th {\n",
       "        vertical-align: top;\n",
       "    }\n",
       "\n",
       "    .dataframe thead th {\n",
       "        text-align: right;\n",
       "    }\n",
       "</style>\n",
       "<table border=\"1\" class=\"dataframe\">\n",
       "  <thead>\n",
       "    <tr style=\"text-align: right;\">\n",
       "      <th></th>\n",
       "      <th>profile</th>\n",
       "      <th>ed_name</th>\n",
       "      <th>ed_deg</th>\n",
       "      <th>ed_dates</th>\n",
       "    </tr>\n",
       "  </thead>\n",
       "  <tbody>\n",
       "    <tr>\n",
       "      <td>0</td>\n",
       "      <td>https://www.linkedin.com/in/joseph-melior-3a4a...</td>\n",
       "      <td>Law</td>\n",
       "      <td>Bachelor's degree</td>\n",
       "      <td>NaN</td>\n",
       "    </tr>\n",
       "    <tr>\n",
       "      <td>1</td>\n",
       "      <td>https://www.linkedin.com/in/joseph-melior-3a4a...</td>\n",
       "      <td>Sociologie</td>\n",
       "      <td>Licentiate degree</td>\n",
       "      <td>NaN</td>\n",
       "    </tr>\n",
       "    <tr>\n",
       "      <td>2</td>\n",
       "      <td>https://www.linkedin.com/in/alexandre-michel-0...</td>\n",
       "      <td>Sciences de la Communication et des relations ...</td>\n",
       "      <td>Licence</td>\n",
       "      <td>NaN</td>\n",
       "    </tr>\n",
       "    <tr>\n",
       "      <td>3</td>\n",
       "      <td>https://www.linkedin.com/in/biento-jacques-871...</td>\n",
       "      <td>Photography</td>\n",
       "      <td>Diplome</td>\n",
       "      <td>NaN</td>\n",
       "    </tr>\n",
       "    <tr>\n",
       "      <td>4</td>\n",
       "      <td>https://www.linkedin.com/in/biento-jacques-871...</td>\n",
       "      <td>Broadcast Journalism</td>\n",
       "      <td>Bachelor's degree</td>\n",
       "      <td>NaN</td>\n",
       "    </tr>\n",
       "  </tbody>\n",
       "</table>\n",
       "</div>"
      ],
      "text/plain": [
       "                                             profile  \\\n",
       "0  https://www.linkedin.com/in/joseph-melior-3a4a...   \n",
       "1  https://www.linkedin.com/in/joseph-melior-3a4a...   \n",
       "2  https://www.linkedin.com/in/alexandre-michel-0...   \n",
       "3  https://www.linkedin.com/in/biento-jacques-871...   \n",
       "4  https://www.linkedin.com/in/biento-jacques-871...   \n",
       "\n",
       "                                             ed_name             ed_deg  \\\n",
       "0                                                Law  Bachelor's degree   \n",
       "1                                         Sociologie  Licentiate degree   \n",
       "2  Sciences de la Communication et des relations ...            Licence   \n",
       "3                                        Photography            Diplome   \n",
       "4                               Broadcast Journalism  Bachelor's degree   \n",
       "\n",
       "   ed_dates  \n",
       "0       NaN  \n",
       "1       NaN  \n",
       "2       NaN  \n",
       "3       NaN  \n",
       "4       NaN  "
      ]
     },
     "execution_count": 104,
     "metadata": {},
     "output_type": "execute_result"
    }
   ],
   "source": [
    "education_df.head()"
   ]
  },
  {
   "cell_type": "code",
   "execution_count": 105,
   "metadata": {},
   "outputs": [
    {
     "data": {
      "text/html": [
       "<div>\n",
       "<style scoped>\n",
       "    .dataframe tbody tr th:only-of-type {\n",
       "        vertical-align: middle;\n",
       "    }\n",
       "\n",
       "    .dataframe tbody tr th {\n",
       "        vertical-align: top;\n",
       "    }\n",
       "\n",
       "    .dataframe thead th {\n",
       "        text-align: right;\n",
       "    }\n",
       "</style>\n",
       "<table border=\"1\" class=\"dataframe\">\n",
       "  <thead>\n",
       "    <tr style=\"text-align: right;\">\n",
       "      <th></th>\n",
       "      <th>profile</th>\n",
       "      <th>skill</th>\n",
       "    </tr>\n",
       "  </thead>\n",
       "  <tbody>\n",
       "    <tr>\n",
       "      <td>0</td>\n",
       "      <td>https://www.linkedin.com/in/joseph-melior-3a4a...</td>\n",
       "      <td>Strategic Planning</td>\n",
       "    </tr>\n",
       "    <tr>\n",
       "      <td>1</td>\n",
       "      <td>https://www.linkedin.com/in/joseph-melior-3a4a...</td>\n",
       "      <td>Public Speaking</td>\n",
       "    </tr>\n",
       "    <tr>\n",
       "      <td>2</td>\n",
       "      <td>https://www.linkedin.com/in/joseph-melior-3a4a...</td>\n",
       "      <td>Business Strategy</td>\n",
       "    </tr>\n",
       "    <tr>\n",
       "      <td>3</td>\n",
       "      <td>https://www.linkedin.com/in/biento-jacques-871...</td>\n",
       "      <td>Graphic Design</td>\n",
       "    </tr>\n",
       "    <tr>\n",
       "      <td>4</td>\n",
       "      <td>https://www.linkedin.com/in/biento-jacques-871...</td>\n",
       "      <td>Video Production</td>\n",
       "    </tr>\n",
       "  </tbody>\n",
       "</table>\n",
       "</div>"
      ],
      "text/plain": [
       "                                             profile               skill\n",
       "0  https://www.linkedin.com/in/joseph-melior-3a4a...  Strategic Planning\n",
       "1  https://www.linkedin.com/in/joseph-melior-3a4a...     Public Speaking\n",
       "2  https://www.linkedin.com/in/joseph-melior-3a4a...   Business Strategy\n",
       "3  https://www.linkedin.com/in/biento-jacques-871...      Graphic Design\n",
       "4  https://www.linkedin.com/in/biento-jacques-871...    Video Production"
      ]
     },
     "execution_count": 105,
     "metadata": {},
     "output_type": "execute_result"
    }
   ],
   "source": [
    "skill_df.head()"
   ]
  },
  {
   "cell_type": "markdown",
   "metadata": {},
   "source": [
    "## step 4"
   ]
  },
  {
   "cell_type": "markdown",
   "metadata": {},
   "source": [
    "### Data analysis"
   ]
  },
  {
   "cell_type": "code",
   "execution_count": 106,
   "metadata": {},
   "outputs": [
    {
     "name": "stdout",
     "output_type": "stream",
     "text": [
      "<class 'pandas.core.frame.DataFrame'>\n",
      "Int64Index: 3210 entries, 0 to 385\n",
      "Data columns (total 4 columns):\n",
      "profile        3210 non-null object\n",
      "exp_title      3209 non-null object\n",
      "exp_company    2870 non-null object\n",
      "exp_dates      3162 non-null object\n",
      "dtypes: object(4)\n",
      "memory usage: 125.4+ KB\n"
     ]
    },
    {
     "data": {
      "text/plain": [
       "None"
      ]
     },
     "metadata": {},
     "output_type": "display_data"
    },
    {
     "name": "stdout",
     "output_type": "stream",
     "text": [
      "<class 'pandas.core.frame.DataFrame'>\n",
      "Int64Index: 2003 entries, 0 to 203\n",
      "Data columns (total 4 columns):\n",
      "profile     2003 non-null object\n",
      "ed_name     1658 non-null object\n",
      "ed_deg      1539 non-null object\n",
      "ed_dates    0 non-null float64\n",
      "dtypes: float64(1), object(3)\n",
      "memory usage: 78.2+ KB\n"
     ]
    },
    {
     "data": {
      "text/plain": [
       "None"
      ]
     },
     "metadata": {},
     "output_type": "display_data"
    },
    {
     "name": "stdout",
     "output_type": "stream",
     "text": [
      "<class 'pandas.core.frame.DataFrame'>\n",
      "Int64Index: 2258 entries, 0 to 250\n",
      "Data columns (total 2 columns):\n",
      "profile    2258 non-null object\n",
      "skill      2258 non-null object\n",
      "dtypes: object(2)\n",
      "memory usage: 52.9+ KB\n"
     ]
    },
    {
     "data": {
      "text/plain": [
       "None"
      ]
     },
     "metadata": {},
     "output_type": "display_data"
    }
   ],
   "source": [
    "display(experience_df.info())\n",
    "display(education_df.info())\n",
    "display(skill_df.info())"
   ]
  },
  {
   "cell_type": "code",
   "execution_count": 18,
   "metadata": {},
   "outputs": [],
   "source": [
    "#Combining skills, experience, education tables for analysis later\n",
    "from functools import reduce\n",
    "\n",
    "frames = [skill_df, experience_df, education_df]\n",
    "People = reduce(lambda  left,right: pd.merge(left,right,on=['profile'],\n",
    "                                            how='outer'), frames)\n"
   ]
  },
  {
   "cell_type": "code",
   "execution_count": 107,
   "metadata": {},
   "outputs": [
    {
     "data": {
      "text/plain": [
       "profile        1005\n",
       "exp_title      2367\n",
       "exp_company    2376\n",
       "exp_dates       226\n",
       "dtype: int64"
      ]
     },
     "execution_count": 107,
     "metadata": {},
     "output_type": "execute_result"
    }
   ],
   "source": [
    "experience_df.nunique()"
   ]
  },
  {
   "cell_type": "code",
   "execution_count": 108,
   "metadata": {},
   "outputs": [
    {
     "data": {
      "text/plain": [
       "profile    775\n",
       "skill      642\n",
       "dtype: int64"
      ]
     },
     "execution_count": 108,
     "metadata": {},
     "output_type": "execute_result"
    }
   ],
   "source": [
    "skill_df.nunique()"
   ]
  },
  {
   "cell_type": "code",
   "execution_count": 109,
   "metadata": {},
   "outputs": [
    {
     "data": {
      "text/plain": [
       "profile     1012\n",
       "ed_name      968\n",
       "ed_deg       642\n",
       "ed_dates       0\n",
       "dtype: int64"
      ]
     },
     "execution_count": 109,
     "metadata": {},
     "output_type": "execute_result"
    }
   ],
   "source": [
    "education_df.nunique()"
   ]
  },
  {
   "cell_type": "code",
   "execution_count": 28,
   "metadata": {},
   "outputs": [],
   "source": [
    "import string"
   ]
  },
  {
   "cell_type": "code",
   "execution_count": 54,
   "metadata": {},
   "outputs": [],
   "source": [
    "pd.set_option('display.max_columns', None)\n",
    "pd.set_option('display.max_rows', None)"
   ]
  },
  {
   "cell_type": "code",
   "execution_count": null,
   "metadata": {},
   "outputs": [],
   "source": [
    "skill_df['skill'].value_counts()"
   ]
  },
  {
   "cell_type": "code",
   "execution_count": null,
   "metadata": {},
   "outputs": [],
   "source": [
    "experience_df['exp_title'].value_counts()"
   ]
  },
  {
   "cell_type": "code",
   "execution_count": null,
   "metadata": {},
   "outputs": [],
   "source": [
    "education_df['ed_name'].value_counts()"
   ]
  },
  {
   "cell_type": "code",
   "execution_count": null,
   "metadata": {},
   "outputs": [],
   "source": [
    "education_df['ed_deg'].value_counts()"
   ]
  },
  {
   "cell_type": "code",
   "execution_count": 49,
   "metadata": {},
   "outputs": [
    {
     "data": {
      "text/plain": [
       "True"
      ]
     },
     "execution_count": 49,
     "metadata": {},
     "output_type": "execute_result"
    }
   ],
   "source": [
    "experience_df['exp_title'].isnull().count() == len(experience_df['exp_title'])"
   ]
  },
  {
   "cell_type": "code",
   "execution_count": 110,
   "metadata": {},
   "outputs": [
    {
     "data": {
      "text/plain": [
       "profile          0\n",
       "exp_title        1\n",
       "exp_company    340\n",
       "exp_dates       48\n",
       "dtype: int64"
      ]
     },
     "execution_count": 110,
     "metadata": {},
     "output_type": "execute_result"
    }
   ],
   "source": [
    "experience_df.isna().sum()"
   ]
  },
  {
   "cell_type": "code",
   "execution_count": 111,
   "metadata": {},
   "outputs": [
    {
     "data": {
      "text/plain": [
       "profile    0\n",
       "skill      0\n",
       "dtype: int64"
      ]
     },
     "execution_count": 111,
     "metadata": {},
     "output_type": "execute_result"
    }
   ],
   "source": [
    "skill_df.isna().sum()"
   ]
  },
  {
   "cell_type": "code",
   "execution_count": 112,
   "metadata": {},
   "outputs": [
    {
     "data": {
      "text/plain": [
       "profile        0\n",
       "ed_name      345\n",
       "ed_deg       464\n",
       "ed_dates    2003\n",
       "dtype: int64"
      ]
     },
     "execution_count": 112,
     "metadata": {},
     "output_type": "execute_result"
    }
   ],
   "source": [
    "education_df.isna().sum()"
   ]
  },
  {
   "cell_type": "markdown",
   "metadata": {},
   "source": [
    "### basic exploratory analysis in the skill column"
   ]
  },
  {
   "cell_type": "code",
   "execution_count": 113,
   "metadata": {},
   "outputs": [],
   "source": [
    "skill_df['skill'] = skill_df['skill'].str.lower()\n",
    "experience_df['exp_title'] = experience_df['exp_title'].str.lower()\n",
    "education_df['ed_deg'] = education_df['ed_deg'].str.lower()"
   ]
  },
  {
   "cell_type": "code",
   "execution_count": 114,
   "metadata": {},
   "outputs": [],
   "source": [
    "# Structure analysis\n",
    "num_words = skill_df['skill'].apply(lambda x: len(x.split()))\n",
    "num_words_mean, num_words_std = np.mean(num_words), np.std(num_words)\n",
    "\n",
    "num_sentences = skill_df['skill'].apply(lambda x: len(re.split( '~ ...' ,'~'.join(x.split('.')))))\n",
    "num_sentences_mean = np.mean(num_sentences)"
   ]
  },
  {
   "cell_type": "code",
   "execution_count": 115,
   "metadata": {},
   "outputs": [
    {
     "data": {
      "text/plain": [
       "1.7440212577502214"
      ]
     },
     "metadata": {},
     "output_type": "display_data"
    },
    {
     "data": {
      "text/plain": [
       "1.0"
      ]
     },
     "metadata": {},
     "output_type": "display_data"
    }
   ],
   "source": [
    "display(num_words_mean)\n",
    "display(num_sentences_mean)"
   ]
  },
  {
   "cell_type": "code",
   "execution_count": 116,
   "metadata": {},
   "outputs": [
    {
     "data": {
      "text/plain": [
       "1.7440212577502214"
      ]
     },
     "execution_count": 116,
     "metadata": {},
     "output_type": "execute_result"
    }
   ],
   "source": [
    "num_words_mean"
   ]
  },
  {
   "cell_type": "code",
   "execution_count": 117,
   "metadata": {},
   "outputs": [],
   "source": [
    "skill_words = list(skill_df['skill'].str.lower().str.split(' ', expand=True).stack().unique())"
   ]
  },
  {
   "cell_type": "code",
   "execution_count": 74,
   "metadata": {},
   "outputs": [
    {
     "data": {
      "text/plain": [
       "['strategic',\n",
       " 'planning',\n",
       " 'public',\n",
       " 'speaking',\n",
       " 'business',\n",
       " 'strategy',\n",
       " 'graphic',\n",
       " 'design',\n",
       " 'video',\n",
       " 'production',\n",
       " 'social',\n",
       " 'media',\n",
       " 'marketing',\n",
       " 'communications',\n",
       " 'customer',\n",
       " 'service',\n",
       " 'microsoft',\n",
       " 'excel',\n",
       " 'word',\n",
       " 'gestion',\n",
       " 'de',\n",
       " 'la',\n",
       " 'maintenance',\n",
       " 'installation',\n",
       " 'electrique',\n",
       " 'collecte',\n",
       " 'fonds',\n",
       " 'réseaux',\n",
       " 'sociaux',\n",
       " 'non',\n",
       " 'lucratif',\n",
       " 'technical',\n",
       " 'support',\n",
       " 'network',\n",
       " 'administrator',\n",
       " 'troubleshooting',\n",
       " 'community',\n",
       " 'development',\n",
       " 'outreach',\n",
       " 'capacity',\n",
       " 'building',\n",
       " 'nonprofits',\n",
       " 'program',\n",
       " 'management',\n",
       " 'microfinance',\n",
       " 'training',\n",
       " 'project',\n",
       " 'leadership',\n",
       " 'client',\n",
       " 'telecommunications',\n",
       " 'office',\n",
       " 'relations',\n",
       " 'research',\n",
       " 'coaching',\n",
       " 'motivational',\n",
       " 'team',\n",
       " 'entrepreneurship',\n",
       " 'private',\n",
       " 'equity',\n",
       " 'health',\n",
       " 'global',\n",
       " 'windows',\n",
       " 'c',\n",
       " 'c++',\n",
       " 'government',\n",
       " 'credit',\n",
       " 'water',\n",
       " 'human',\n",
       " 'resources',\n",
       " 'conflict',\n",
       " 'monitoring',\n",
       " '&',\n",
       " 'evaluation',\n",
       " 'english',\n",
       " 'prise',\n",
       " 'parole',\n",
       " 'en',\n",
       " 'international',\n",
       " 'ngos',\n",
       " 'recruitment',\n",
       " 'banking',\n",
       " 'and',\n",
       " 'finance',\n",
       " 'php',\n",
       " 'linux',\n",
       " 'logistics',\n",
       " 'import',\n",
       " 'cuisines',\n",
       " 'restaurant',\n",
       " 'autogas',\n",
       " 'alternative',\n",
       " 'fuels',\n",
       " 'propane',\n",
       " 'sustainable',\n",
       " 'amélioration',\n",
       " 'productivité',\n",
       " 'computer',\n",
       " 'networking',\n",
       " 'science',\n",
       " 'translater',\n",
       " '(fan-eng',\n",
       " 'eng',\n",
       " 'fran)',\n",
       " 'technicien',\n",
       " 'reseau',\n",
       " 'informatique',\n",
       " 'recherche',\n",
       " 'communication',\n",
       " 'stratégique',\n",
       " 'interculturelle',\n",
       " 'horticulture',\n",
       " 'landscape',\n",
       " 'system',\n",
       " 'administration',\n",
       " 'server',\n",
       " 'active',\n",
       " 'directory',\n",
       " 'life',\n",
       " 'entrepreneuriat',\n",
       " 'art',\n",
       " 'creative',\n",
       " 'direction',\n",
       " 'hospitals',\n",
       " 'healthcare',\n",
       " 'market',\n",
       " 'value',\n",
       " 'chain',\n",
       " 'analysis',\n",
       " 'operating',\n",
       " 'systems',\n",
       " 'crm',\n",
       " 'unified',\n",
       " 'gsm',\n",
       " 'ip',\n",
       " 'sales',\n",
       " 'satisfaction',\n",
       " 'analyse',\n",
       " 'des',\n",
       " 'politiques',\n",
       " 'développement',\n",
       " 'organisationnel',\n",
       " 'rédaction',\n",
       " 'propositions',\n",
       " 'call',\n",
       " 'centers',\n",
       " 'aviation',\n",
       " 'airlines',\n",
       " 'flights',\n",
       " 'typing',\n",
       " 'data',\n",
       " 'econometrics',\n",
       " 'help',\n",
       " 'desk',\n",
       " 'agriculture',\n",
       " 'portfolio',\n",
       " 'système',\n",
       " \"d'information\",\n",
       " 'sciences',\n",
       " 'économiques',\n",
       " 'environmental',\n",
       " 'awareness',\n",
       " 'sustainability',\n",
       " 'air',\n",
       " 'freight',\n",
       " 'mobile',\n",
       " 'devices',\n",
       " 'nonprofit',\n",
       " 'organizations',\n",
       " 'étude',\n",
       " 'marché',\n",
       " 'stocks',\n",
       " 'vendeur',\n",
       " 'clinical',\n",
       " 'réseau',\n",
       " 'dépannage',\n",
       " 'matériel',\n",
       " 'téléphonie',\n",
       " '(ipbx/pabx)',\n",
       " 'coordination',\n",
       " 'd’équipe',\n",
       " 'programmes',\n",
       " 'communautaires',\n",
       " 'with',\n",
       " '2003',\n",
       " 'coreldraw',\n",
       " 'stata',\n",
       " 'economics',\n",
       " 'french',\n",
       " 'rights',\n",
       " 'humanitarian',\n",
       " 'assistance',\n",
       " 'working',\n",
       " 'investors',\n",
       " 'bureautique',\n",
       " 'web',\n",
       " '2.0',\n",
       " 'ceos',\n",
       " 'food',\n",
       " 'beverage',\n",
       " 'ownership',\n",
       " 'expert',\n",
       " 'évaluation',\n",
       " 'et',\n",
       " 'reparation',\n",
       " 'batiments',\n",
       " 'construction',\n",
       " 'acier',\n",
       " 'galvanisé',\n",
       " 'niveau',\n",
       " '1',\n",
       " 'positive',\n",
       " 'behavior',\n",
       " 'cisco',\n",
       " 'technologies',\n",
       " 'access',\n",
       " 'high',\n",
       " 'performer',\n",
       " 'personal',\n",
       " 'listening',\n",
       " 'manager',\n",
       " 'stock',\n",
       " 'creole',\n",
       " 'services',\n",
       " 'event',\n",
       " 'spanish',\n",
       " 'entrepreneur',\n",
       " 'gestionnaire',\n",
       " 'reseaux',\n",
       " 'sur',\n",
       " 'les',\n",
       " 'medicine',\n",
       " 'graphics',\n",
       " 'digital',\n",
       " 'printing',\n",
       " 'wide',\n",
       " 'format',\n",
       " 'engineering',\n",
       " 'it',\n",
       " 'pharmaceutical',\n",
       " 'industry',\n",
       " 'effectiveness',\n",
       " 'pharmaceutics',\n",
       " 'airports',\n",
       " 'supply',\n",
       " 'accounting',\n",
       " 'auditing',\n",
       " 'internal',\n",
       " 'audit',\n",
       " 'editing',\n",
       " 'fundraising',\n",
       " 'pdg',\n",
       " 'coach',\n",
       " 'professionnel',\n",
       " 'conseil',\n",
       " \"d'administration\",\n",
       " 'teaching',\n",
       " 'security',\n",
       " 'physical',\n",
       " 'operations',\n",
       " 'agronomy',\n",
       " 'consultant',\n",
       " 'sociologie',\n",
       " 'enseignement',\n",
       " 'à',\n",
       " 'petite',\n",
       " 'enfance',\n",
       " 'journalism',\n",
       " 'journalisme',\n",
       " 'parler',\n",
       " 'financial',\n",
       " 'reporting',\n",
       " 'managerial',\n",
       " 'ability',\n",
       " 'to',\n",
       " 'federate',\n",
       " 'sense',\n",
       " 'of',\n",
       " 'organization',\n",
       " 'decision-making',\n",
       " 'object-oriented',\n",
       " 'programming',\n",
       " '(oop)',\n",
       " 'software',\n",
       " 'java',\n",
       " 'laravel',\n",
       " 'hospitality',\n",
       " 'hotels',\n",
       " 'employee',\n",
       " 'performance',\n",
       " 'personnel',\n",
       " 'stratégie',\n",
       " 'numérique',\n",
       " 'élaboration',\n",
       " 'solutions',\n",
       " 'databases',\n",
       " 'writing',\n",
       " 'wireless',\n",
       " 'copywriting',\n",
       " 'blogging',\n",
       " 'educateur',\n",
       " 'formation',\n",
       " 'pédagogue',\n",
       " 'travailleur',\n",
       " 'organizational',\n",
       " 'financière',\n",
       " 'policy',\n",
       " 'haiti',\n",
       " 'vodou',\n",
       " 'haitian',\n",
       " 'voodoo',\n",
       " 'topographie',\n",
       " 'connaissances',\n",
       " 'powerpoint',\n",
       " 'assistante',\n",
       " 'rh',\n",
       " 'automatisation',\n",
       " 'financiere',\n",
       " 'html',\n",
       " 'données',\n",
       " 'infographie',\n",
       " 'internet',\n",
       " 'protocol',\n",
       " '(ip)',\n",
       " 'projet',\n",
       " 'programmeur',\n",
       " 'interpréter',\n",
       " 'communautaire',\n",
       " 'teamwork',\n",
       " 'translation',\n",
       " 'inventory',\n",
       " 'sexology',\n",
       " 'hardware',\n",
       " 'javascript',\n",
       " 'feuilles',\n",
       " 'style',\n",
       " 'cascade',\n",
       " '(css)',\n",
       " 'teacher',\n",
       " 'distance',\n",
       " 'learning',\n",
       " 'oracle',\n",
       " 'database',\n",
       " 'mechanics',\n",
       " 'education',\n",
       " 'dentistry',\n",
       " 'prevention',\n",
       " 'durable',\n",
       " 'budgets',\n",
       " 'génie',\n",
       " 'civil',\n",
       " 'contentieux',\n",
       " 'macroeconomics',\n",
       " 'entry',\n",
       " 'jeunesse',\n",
       " 'delmas',\n",
       " '30',\n",
       " 'tourisme',\n",
       " 'restauration',\n",
       " 'hôtelière',\n",
       " 'pêcheries',\n",
       " 'conformité',\n",
       " '3g',\n",
       " 'e-mail',\n",
       " 'sites',\n",
       " 'promotion',\n",
       " 'pédagogie',\n",
       " 'relief',\n",
       " 'developement',\n",
       " 'android',\n",
       " 'asp.net',\n",
       " 'mvc',\n",
       " 'voip',\n",
       " 'automation',\n",
       " 'planification',\n",
       " 'électrique',\n",
       " 'calcul',\n",
       " 'indicateurs',\n",
       " 'report',\n",
       " 'illustration',\n",
       " 'logo',\n",
       " 'branding',\n",
       " 'hr',\n",
       " 'consulting',\n",
       " 'curriculum',\n",
       " 'saisie',\n",
       " 'formateur',\n",
       " 'base',\n",
       " 'donnees',\n",
       " 'chef',\n",
       " 'culinary',\n",
       " 'skills',\n",
       " 'banquets',\n",
       " 'travail',\n",
       " 'administrative',\n",
       " 'assistants',\n",
       " 'envie',\n",
       " 'travailler',\n",
       " 'dans',\n",
       " 'une',\n",
       " 'compagnie',\n",
       " 'associative.',\n",
       " 'online',\n",
       " 'lettres',\n",
       " 'motivation',\n",
       " 'sens',\n",
       " 'affaires',\n",
       " 'écrire',\n",
       " \"l'anglais\",\n",
       " 'création',\n",
       " 'corporate',\n",
       " 'law',\n",
       " 'legal',\n",
       " 'litigation',\n",
       " 'time',\n",
       " 'mannequin',\n",
       " 'model',\n",
       " 'sap',\n",
       " 'adobe',\n",
       " 'photoshop',\n",
       " 'telemarketing',\n",
       " 'impact',\n",
       " 'e-business',\n",
       " 'proofreading',\n",
       " 'child',\n",
       " 'protective',\n",
       " 'primary',\n",
       " 'xhtml',\n",
       " 'css',\n",
       " 'classroom',\n",
       " 'quality',\n",
       " 'assurance',\n",
       " 'risk',\n",
       " 'r',\n",
       " 'eviews',\n",
       " 'typing,',\n",
       " 'word,',\n",
       " 'excel,',\n",
       " 'powerpoint,',\n",
       " 'travaux',\n",
       " 'secrétariat,',\n",
       " 'interpersonal',\n",
       " 'brand',\n",
       " 'insight',\n",
       " 'ingenierie',\n",
       " 'sociale',\n",
       " \"l'eau\",\n",
       " 'blogger',\n",
       " 'urban',\n",
       " 'autocad',\n",
       " 'infectious',\n",
       " 'diseases',\n",
       " 'contract',\n",
       " '(hr)',\n",
       " 'agro-economiste',\n",
       " 'programme',\n",
       " 'responsable',\n",
       " 'bugdétaire',\n",
       " 'ouvriers',\n",
       " 'chaîne',\n",
       " 'valeurs',\n",
       " 'droit',\n",
       " 'animation',\n",
       " 'thérapie',\n",
       " 'groupe',\n",
       " 'sociology',\n",
       " 'culture',\n",
       " 'transportation',\n",
       " 'physics',\n",
       " 'ressources',\n",
       " 'humaines',\n",
       " 'recruiting',\n",
       " 'payroll',\n",
       " 'français',\n",
       " 'photographie',\n",
       " 'grants',\n",
       " 'qualitative',\n",
       " 'esprit',\n",
       " 'd’applications',\n",
       " 'organisation',\n",
       " 'du',\n",
       " 'connaissance',\n",
       " 'données.',\n",
       " '√',\n",
       " 'parle',\n",
       " 'comprend',\n",
       " 'couramment',\n",
       " 'designer',\n",
       " 'homme',\n",
       " \"d'affaires\",\n",
       " \"l'impact\",\n",
       " 'environnemental',\n",
       " 'assainissement',\n",
       " 'anglais',\n",
       " 'd’évènements',\n",
       " 'negotiation',\n",
       " 'formulation',\n",
       " 'artiste',\n",
       " 'maquilleur',\n",
       " 'secretariat',\n",
       " 'diplomatique',\n",
       " 'christ',\n",
       " 'the',\n",
       " 'king',\n",
       " 'secretarial',\n",
       " 'school',\n",
       " 'applications',\n",
       " 'comptabilité',\n",
       " 'start-ups',\n",
       " 'boy',\n",
       " 'scouts',\n",
       " 'persistence',\n",
       " 'get',\n",
       " 'along',\n",
       " 'well',\n",
       " 'others',\n",
       " 'graphique',\n",
       " 'sketchup',\n",
       " 'pro',\n",
       " '2019',\n",
       " 'lumion',\n",
       " '8.0',\n",
       " 'engagement',\n",
       " 'resource',\n",
       " 'television',\n",
       " 'integration',\n",
       " 'google',\n",
       " 'analytics',\n",
       " 'budgeting',\n",
       " 'nursing',\n",
       " 'beauty',\n",
       " 'small',\n",
       " 'procurement',\n",
       " 'documentation',\n",
       " 'collection',\n",
       " 'farms',\n",
       " 'relationship',\n",
       " 'compétences',\n",
       " 'interpersonnelles',\n",
       " 'télémarketing',\n",
       " 'concept',\n",
       " 'arts',\n",
       " 'higher',\n",
       " 'student',\n",
       " 'affairs',\n",
       " 'spirituel',\n",
       " 'jeunes',\n",
       " 'électrotechnique',\n",
       " 'genre',\n",
       " 'juridique',\n",
       " 'outlook',\n",
       " 'protection',\n",
       " 'renforcement',\n",
       " 'capacités',\n",
       " 'cultural',\n",
       " 'heritage',\n",
       " 'musique',\n",
       " 'contrôles',\n",
       " 'interne',\n",
       " 'rapprochement',\n",
       " 'comptes',\n",
       " 'artrage',\n",
       " 'logic',\n",
       " 'interpreter',\n",
       " 'photographer',\n",
       " 'emergency',\n",
       " 'medical',\n",
       " '(ems)',\n",
       " 'html5',\n",
       " 'éducation',\n",
       " '(crm)',\n",
       " 'account',\n",
       " 'sage',\n",
       " 'recrutement',\n",
       " 'engineer',\n",
       " 'app',\n",
       " 'developper',\n",
       " 'trainer/teacher',\n",
       " 'intelligence',\n",
       " 'trainer',\n",
       " 'l’organisation',\n",
       " 'll//ⁿ+00l',\n",
       " 'touristique',\n",
       " 'séminaire',\n",
       " 'magazines',\n",
       " 'santé',\n",
       " 'hôpitaux',\n",
       " 'pédiatrie',\n",
       " 'new',\n",
       " 'tactfulness',\n",
       " 'interpersonnelle',\n",
       " 'relationships',\n",
       " 'conception',\n",
       " 'diagnostic',\n",
       " 'agraire',\n",
       " 'études',\n",
       " '(rh)',\n",
       " 'générale',\n",
       " '',\n",
       " 'universitaire',\n",
       " 'specialisation',\n",
       " 'controle',\n",
       " 'assessment',\n",
       " 'epidemiology',\n",
       " 'lawyer',\n",
       " 'change',\n",
       " 'control',\n",
       " 'criminal',\n",
       " 'justice',\n",
       " 'enforcement',\n",
       " 'investigations',\n",
       " 'patient',\n",
       " 'safety',\n",
       " 'secouriste',\n",
       " 'certification',\n",
       " 'premiers',\n",
       " 'secours',\n",
       " 'accountant',\n",
       " 'musicien',\n",
       " 'logistique',\n",
       " 'animateur',\n",
       " 'radio',\n",
       " 'visual',\n",
       " 'déchets',\n",
       " 'aménagement',\n",
       " 'territoire',\n",
       " 'cartographie',\n",
       " 'outils',\n",
       " 'bureautiques',\n",
       " '(traitement',\n",
       " 'texte,',\n",
       " 'tableur…)',\n",
       " 'technique',\n",
       " \"d'écriture\",\n",
       " 'rapide',\n",
       " 'wordpress',\n",
       " 'user',\n",
       " 'experience',\n",
       " '(ux)',\n",
       " 'stratege',\n",
       " 'observateur',\n",
       " 'power',\n",
       " 'point',\n",
       " 'competences',\n",
       " 'systemes',\n",
       " 'informations',\n",
       " 'geographiques',\n",
       " '(s.i.g.)',\n",
       " 'espagnol',\n",
       " 'electrical',\n",
       " 'solar',\n",
       " 'energy',\n",
       " 'chimie',\n",
       " 'audits',\n",
       " 'massage',\n",
       " 'thérapeutique',\n",
       " 'listings',\n",
       " 'faire',\n",
       " 'analyses',\n",
       " 'aptitudes',\n",
       " 'artistiques',\n",
       " 'comédie',\n",
       " 'musicale',\n",
       " 'weight',\n",
       " 'loss',\n",
       " 'controls',\n",
       " 'bss',\n",
       " 'controller',\n",
       " '(rnc)',\n",
       " 'openoffice',\n",
       " 'mysql',\n",
       " 'conseiller',\n",
       " 'personnelle',\n",
       " 'grh',\n",
       " 'transmission',\n",
       " 'sdh',\n",
       " '•\\tlogistics',\n",
       " 'workforce',\n",
       " 'advertising',\n",
       " 'logiciel',\n",
       " 'acquisition',\n",
       " 'politics',\n",
       " 'political',\n",
       " 'tcp/ip',\n",
       " 'investments',\n",
       " 'drive',\n",
       " 'test',\n",
       " 'wimax',\n",
       " 'optimization',\n",
       " 'statistical',\n",
       " '2g',\n",
       " 'identity',\n",
       " 'sql',\n",
       " 'interview',\n",
       " 'focus',\n",
       " 'groups',\n",
       " 'ccent',\n",
       " 'body',\n",
       " 'knowledge',\n",
       " '(pmbok)',\n",
       " 'plan',\n",
       " 'tems',\n",
       " 'investigation',\n",
       " 'warehouse',\n",
       " 'statistics',\n",
       " 'biostatistics',\n",
       " 'ecrire',\n",
       " 'meal',\n",
       " 'wirtschaftswissenschaften',\n",
       " 'uml',\n",
       " 'crédit',\n",
       " 'interior',\n",
       " 'indesign',\n",
       " 'illustrator',\n",
       " 'non-profits',\n",
       " 'ss7',\n",
       " 'hlr',\n",
       " 'product',\n",
       " 'commercial',\n",
       " 'relocation',\n",
       " 'grant',\n",
       " '\\uf0fc\\tcapacité',\n",
       " \"d'analyse\",\n",
       " 'synthèse',\n",
       " '\\uf0fc\\tsens',\n",
       " 'responsabilité',\n",
       " 'discrétion',\n",
       " 'humanitaire',\n",
       " 'banque',\n",
       " 'vente',\n",
       " '2008',\n",
       " 'direct',\n",
       " 'salesforce.com']"
      ]
     },
     "execution_count": 74,
     "metadata": {},
     "output_type": "execute_result"
    }
   ],
   "source": [
    "skill_words"
   ]
  },
  {
   "cell_type": "code",
   "execution_count": 118,
   "metadata": {},
   "outputs": [],
   "source": [
    "skill_df.drop(skill_df[(skill_df['skill'] == 'non lucratif') | (skill_df['skill'] == 'nonprofits') | (skill_df['skill'] == 'government') | (skill_df['skill'] == 'credit') | (skill_df['skill'] == 'delmas 30') | (skill_df['skill'] == 'e-mail') | (skill_df['skill'] == 'r') | (skill_df['skill'] == 'eviews') | (skill_df['skill'] == 'salesforce.com')].index, inplace = True)"
   ]
  },
  {
   "cell_type": "code",
   "execution_count": null,
   "metadata": {},
   "outputs": [],
   "source": [
    "skill_df.reset_index(inplace = True)\n",
    "skill_df.drop('level_0', axis =1, inplace = True)"
   ]
  },
  {
   "cell_type": "code",
   "execution_count": 120,
   "metadata": {},
   "outputs": [],
   "source": [
    "skill_string = \" \".join(sk for sk in skill_df['skill'])"
   ]
  },
  {
   "cell_type": "code",
   "execution_count": 121,
   "metadata": {},
   "outputs": [
    {
     "data": {
      "text/plain": [
       "\"strategic planning public speaking business strategy graphic design video production social media social media social media marketing customer service microsoft excel microsoft word gestion de la maintenance gestion de la production installation electrique collecte de fonds réseaux sociaux technical support network administrator troubleshooting public speaking community development community outreach capacity building community development program management microfinance strategic planning program management training project management project management leadership social media management service client microsoft office microsoft excel public relations leadership microsoft office strategic planning microsoft office research leadership leadership motivational speaking project management telecommunications management team leadership microsoft office public speaking leadership strategy entrepreneurship private equity public health global health strategic planning project management business strategy windows c c++ strategic planning microsoft office microsoft excel team leadership business strategy management water management human resources management training public relations public speaking strategic planning microsoft office microsoft excel microsoft word project management conflict management monitoring & evaluation entrepreneurship customer service strategic planning strategic planning business strategy english leadership management prise de parole en public project management project planning team leadership capacity building international development ngos strategic planning project management public speaking recruitment customer service training banking and finance php linux microsoft office microsoft office customer service management microsoft office leadership management logistics management import logistics international cuisines restaurant management customer service autogas alternative fuels propane business strategy business planning strategic planning public speaking microsoft excel research capacity building research amélioration de la productivité computer networking computer maintenance computer science translater (fan-eng eng fran) recherche de fonds communication stratégique public speaking horticulture system administration windows server active directory life coaching coaching motivational speaking administration marketing entrepreneuriat art creative direction leadership hospitals healthcare healthcare management market research business development value chain analysis operating systems customer service troubleshooting telecommunications crm unified communications gsm ip telecommunications team leadership leadership project management customer service sales customer satisfaction microsoft office customer service microsoft excel analyse des politiques développement organisationnel rédaction de propositions strategic planning management project management call centers management aviation airlines flights design graphic design microsoft office social networking strategic planning project management microsoft excel microsoft word typing microsoft office public speaking data analysis econometrics research microsoft office microsoft excel management help desk support research computer science agriculture research project management banking microsoft office public relations customer service agriculture système d'information sciences économiques environmental awareness sustainability sustainable development microsoft excel customer service air freight management marketing mobile devices research public speaking strategic planning microsoft office management entrepreneurship leadership project management microsoft office leadership microsoft excel international development capacity building ngos nonprofit organizations leadership management microsoft word public speaking étude de marché gestion des stocks vendeur hospitals clinical research healthcare management microsoft office microsoft excel leadership administration réseau dépannage de matériel informatique téléphonie (ipbx/pabx) management coordination d’équipe programmes communautaires microsoft excel network administrator with windows server 2003 design with coreldraw stata economics french public relations international development human rights leadership leadership development humanitarian assistance working with investors strategy informatique bureautique social networking public speaking social media social media web development web 2.0 strategic planning public relations public speaking ceos food & beverage ownership expert en évaluation et reparation de batiments expert en construction acier galvanisé entrepreneuriat niveau 1 management leadership positive behavior support microsoft office cisco technologies microsoft access microsoft office management leadership high performer personal development active listening microsoft office leadership microsoft excel sales manager stock management sales management creole french english project management social services event planning spanish english french entrepreneur gestionnaire de reseaux sociaux communication sur les réseaux sociaux microsoft office customer service leadership programmes communautaires community outreach public speaking public relations entrepreneurship medicine leadership management microsoft office digital printing wide format printing microsoft office engineering microsoft excel microsoft office leadership project management it management networking pharmaceutical industry sales effectiveness pharmaceutics airlines aviation airports project management web design web development graphic design customer service nonprofit organizations human resources cisco technologies linux telecommunications accounting auditing internal audit microsoft office social media video editing microsoft office microsoft word microsoft excel strategic planning fundraising community outreach business planning strategic planning business strategy pdg coach professionnel conseil d'administration microsoft office marketing communications marketing strategy teaching public speaking leadership development security physical security security operations project management strategic planning business strategy public speaking program development program evaluation microsoft office leadership microsoft excel leadership management project management public speaking international relations international development agriculture agronomy consultant communication sociologie enseignement à la petite enfance journalism journalisme social media parler en public accounting financial reporting strategic planning managerial finance finance microsoft office customer service microsoft excel strategic planning team building public speaking ability to federate sense of organization decision-making capacity object-oriented programming (oop) leadership event planning software development web development microsoft office java php laravel customer service hospitality management hotels social media communication recherche social media public relations social networking leadership project management management leadership microsoft excel parler en public management telecommunications business strategy strategic planning management microsoft office sales strategic planning customer service employee relations performance management leadership microsoft office leadership microsoft excel management finance logistics leadership microsoft word microsoft windows développement personnel stratégie de communication numérique élaboration de solutions microsoft excel microsoft word training microsoft office customer service microsoft excel community outreach microsoft office management customer service management microsoft office social media public speaking microsoft office microsoft office management journalism public relations editing telecommunications network administration databases microsoft office project management customer service project management public speaking microsoft office research microsoft word creative writing data analysis microsoft office microsoft excel wireless networking wireless technologies coreldraw strategic planning customer service microsoft office business strategy business development project finance strategy management strategic planning marketing copywriting blogging microsoft office management research educateur de formation pédagogue travailleur social research project management public speaking ngos capacity building organizational communication journalism journalisme teaching microsoft office public speaking analyse financière management customer service strategic planning computer networking technical support help desk support research policy strategic planning microsoft office public speaking strategic planning haiti vodou haitian voodoo public relations strategic planning management microsoft office topographie connaissances en informatique teaching english english teaching microsoft office microsoft excel powerpoint microsoft excel assistante rh automatisation financiere html windows microsoft office microsoft office project management customer service analyse de données maintenance informatique infographie telecommunications wireless technologies internet protocol (ip) gestion de projet programmeur interpréter french human resources employee relations international development international development community development développement international human resources microsoft office microsoft excel microsoft office microsoft excel microsoft word développement communautaire public speaking healthcare customer service teamwork software programming english accounting english english translation microsoft word microsoft excel inventory management program management project management sexology computer hardware microsoft office networking project management strategic planning program management javascript html feuilles de style en cascade (css) creole microsoft office microsoft excel teacher training program development distance learning project management community development project planning html microsoft office oracle database mechanics strategic planning customer service microsoft office microsoft excel health education dentistry prevention agriculture horticulture agriculture durable training strategic planning budgets génie civil contentieux civil macroeconomics policy analysis econometrics microsoft office microsoft excel management clinical research research public speaking microsoft office microsoft word microsoft excel public speaking social media editing microsoft office customer service leadership data entry database administration communication développement de la jeunesse gestion de la construction accounting auditing strategy public relations public speaking strategic planning project management tourisme gestion restauration gestion hôtelière international relations capacity building international development program management international development management leadership microsoft office microsoft excel agriculture strategic planning project management management program management pêcheries gestion de la conformité gestion de projet microsoft office microsoft excel microsoft word telecommunications gsm 3g research project management management program management développement de sites promotion communication administration pédagogie business management organizational development management teaching training relief php web developement android developement database php asp.net mvc microsoft office microsoft excel microsoft word voip ip microsoft office microsoft office windows html microsoft office php html automation planification stratégique installation électrique microsoft excel leadership microsoft office sciences de gestion calcul des indicateurs économiques analyse de marché microsoft office networking report writing management project management strategic planning telecommunications team leadership customer service illustration logo design branding public speaking journalisme teaching microsoft excel leadership microsoft word microsoft excel microsoft word customer service microsoft office management leadership hr consulting hr management hr strategy healthcare hospitals healthcare management teaching research curriculum design customer service microsoft office management saisie de données formateur gestionnaire de base de donnees chef culinary skills banquets leadership service client administration réseau microsoft excel microsoft word microsoft office microsoft office customer service microsoft excel travail d’équipe leadership marketing administrative assistants microsoft office microsoft excel research program management envie de travailler dans une compagnie associative. entrepreneurship leadership online marketing management strategic planning customer service customer service team leadership management public speaking social media community development microsoft office microsoft excel microsoft word lettres de motivation sens des affaires marketing sur les réseaux sociaux strategic planning fundraising program development customer service team leadership customer satisfaction strategic planning public speaking microsoft office parler et écrire l'anglais création de sites web journalisme microsoft word microsoft excel corporate law legal research litigation writing time management accounting mannequin model leadership management microsoft word microsoft office management leadership nonprofit organizations international development community development technical translation business management customer service capacity building ngos international development microsoft office management leadership computer science software development laravel international relations public relations public speaking strategic planning management human resources sap office administration social media marketing strategy adobe photoshop telemarketing social impact e-business french proofreading translation child protective services primary education public relations web development xhtml css microsoft office microsoft excel leadership teacher training classroom management curriculum design research microsoft office public speaking leadership customer service microsoft excel teamwork time management creative solutions leadership quality assurance risk management microsoft office typing, word, excel, powerpoint, travaux de secrétariat, infographie microsoft office management microsoft excel data entry interpersonal skills interpersonal communication management english microsoft office leadership coaching microsoft excel international marketing brand management customer insight team building project management strategic planning international development program evaluation program management ingenierie sociale de l'eau blogger microsoft office microsoft excel leadership healthcare medicine urban planning sustainability autocad medicine healthcare infectious diseases public relations public speaking project management microsoft office customer service marketing marketing strategy strategic planning entrepreneuriat social recherche parler en public contract management human resources (hr) project management analyse de données agro-economiste évaluation de programme social media illustration social media marketing gestionnaire de projet responsable bugdétaire formation des ouvriers analyse et développement de chaîne de valeurs sustainability project planning droit animation de formation thérapie de groupe public speaking strategic planning project management corporate communications sociology of culture communication transportation logistics project management strategic planning management marketing strategy strategic planning public relations fundraising management business planning marketing leadership parler en public research microsoft office physics microsoft excel microsoft word ressources humaines leadership public speaking project management customer service microsoft office microsoft excel microsoft excel microsoft word management human resources recruiting payroll microsoft excel microsoft powerpoint management management administration sales management administration leadership microsoft office communication microsoft office public speaking business français photographie microsoft excel parler en public recherche grants qualitative research human resources microsoft office microsoft excel esprit d’équipe développement d’applications web social media editing public relations microsoft office microsoft excel microsoft word leadership administration microsoft excel project management microsoft office public health leadership training management microsoft office microsoft excel leadership microsoft office microsoft excel parler en public microsoft office microsoft excel microsoft word planification et organisation du travail une connaissance en informatique et gestion des données. √ parle et comprend l'anglais couramment microsoft office management marketing designer homme d'affaires pdg management leadership microsoft word microsoft excel teamwork healthcare développement durable évaluation de l'impact environnemental assainissement customer service microsoft office management project management management project manager anglais planification d’évènements marketing negotiation strategic planning budgets project formulation project management business management microsoft office customer service microsoft excel artiste maquilleur secretariat diplomatique à christ the king secretarial school applications de comptabilité microsoft office leadership microsoft word teaching public speaking research start-ups business planning strategy microsoft office management leadership parler en public gestion de projet teaching coaching public speaking gestion de projet enseignement marketing microsoft excel microsoft word program management healthcare management prevention social media leadership legal research legal writing litigation microsoft office social networking autocad boy scouts persistence get along well with others public relations strategic planning public speaking social media microsoft word microsoft office microsoft excel capacity building ngos public relations project management design graphique enseignement de l'anglais sketchup pro 2019 lumion 8.0 blogging networking marketing public relations leadership microsoft office microsoft excel microsoft office microsoft excel microsoft word community engagement resource management television editing marketing strategy microsoft office microsoft excel microsoft office service client gestion des stocks linux integration gestion de projet ressources humaines microsoft excel project management planning budgeting education teamwork research management microsoft office leadership microsoft office research public speaking microsoft excel logistics customer service nursing education beauty industry small business leadership microsoft excel public speaking procurement construction strategic planning strategic planning public speaking entrepreneurship microsoft office customer service microsoft excel documentation data collection farms management communication business relationship management microsoft office microsoft excel leadership administration entrepreneuriat compétences interpersonnelles rédaction de propositions télémarketing leadership microsoft excel microsoft word entrepreneurship logo design accounting project management research strategic planning microsoft office team leadership creative arts higher education student affairs curriculum development public speaking strategic planning leadership d’équipe leadership spirituel gestion de projet électrotechnique medicine conseil juridique rédaction juridique anglais microsoft office marketing strategy microsoft excel microsoft office leadership microsoft excel administrative assistants outlook access child protection capacity building renforcement des capacités cultural heritage culture journalism microsoft office microsoft excel management microsoft office microsoft excel leadership musique management project management strategic planning audit contrôles en interne comptabilité spanish english french coreldraw leadership microsoft office microsoft office project management customer service management leadership management customer service project management comptabilité rapprochement de comptes assistance administrative photoshop artrage logic pro interpreter photographer and graphic designer communication administrative medicine health management html5 c php science éducation microsoft office leadership management project management data analysis economics customer relationship management (crm) account management telecommunications microsoft powerpoint management public speaking strategic planning finance economics sage communication entrepreneurship teaching strategic planning management marketing strategy microsoft word microsoft excel leadership microsoft office healthcare microsoft office assistance administrative engineer & app developper android development trainer/teacher business intelligence trainer microsoft office coaching sens de l’organisation monitoring and evaluation ll//ⁿ+00l gestion touristique management microsoft office customer service ngos international relations international development microsoft powerpoint microsoft access administration informatique bureautique séminaire sur leadership capacity building ngos public health project management microfinance business development legal research powerpoint legal writing microsoft office public speaking research magazines français editing graphic design management microsoft office marketing microsoft word microsoft powerpoint services de santé hôpitaux pédiatrie management customer service new business development tactfulness communication interpersonnelle développement personnel management microsoft office customer service project management microsoft office research program management international development project management financial analysis microsoft office microsoft excel microsoft office leadership parler en public project management microsoft office microsoft excel microsoft office microsoft excel administration human resources administrative assistance team leadership interpersonal relationships strategic planning leadership social media training microsoft office customer service management design conception web branding leadership microsoft office management diagnostic agraire développement durable études de marché microsoft office public speaking microsoft office ressources humaines (rh) administration générale supply chain management logistics management human resources leadership microsoft powerpoint microsoft word microsoft office planification stratégique enseignement  universitaire specialisation en controle et audit leadership enseignement microsoft excel parler en public enseignement microsoft office microsoft excel service client microsoft office customer service microsoft excel microsoft excel travail d’équipe project planning management research environmental impact assessment environmental epidemiology lawyer project management public speaking leadership customer service event planning business strategy change management project management leadership microsoft office management leadership microsoft excel prise de parole en public microsoft excel leadership microsoft word inventory management leadership inventory control leadership microsoft office management criminal justice law enforcement criminal investigations microsoft office microsoft excel microsoft word patient safety healthcare management emergency medicine marketing market research management secouriste certification de secouriste premiers secours microsoft office public speaking leadership management strategic planning accountant musicien management leadership marketing microsoft office customer service banking microsoft office microsoft word leadership management microsoft office marketing microsoft windows microsoft powerpoint research teaching public speaking microsoft powerpoint microsoft word microsoft excel leadership gestion de la logistique animateur de radio marketing graphic design administration management leadership art visual arts photoshop public speaking microsoft office team building gestion des déchets aménagement du territoire connaissance des outils bureautiques (traitement de texte, tableur…) comptabilité financière technique d'écriture rapide microsoft office research international relations wordpress user experience (ux) leadership management administration management microsoft excel leadership leadership stratege observateur science microsoft office power point french microsoft office microsoft office microsoft excel leadership microsoft excel français electrical engineering solar energy microsoft office microsoft excel microsoft word informatique français chimie financial audits financial analysis financial reporting microsoft excel microsoft word management administration leadership customer service management social media marketing microsoft excel logistics supply chain management interpreter leadership recherche microsoft office public speaking microsoft excel teamwork listings travail d’équipe faire des analyses aptitudes artistiques de production marketing sur les réseaux sociaux travail d’équipe stock management recrutement management sales sales management microsoft excel leadership microsoft word microsoft word powerpoint microsoft office microsoft word microsoft excel powerpoint compétences interpersonnelles vendeur comédie musicale premiers secours leadership financial analysis marketing weight loss coaching leadership microsoft office microsoft excel animation microsoft office adobe photoshop leadership microsoft office enseignement budgets accounting internal controls portfolio management financial market analysis microsoft office microsoft excel management management fundraising nonprofit organizations leadership microsoft office microsoft excel microsoft office public speaking sustainable development ip telecommunications networking telecommunications business strategy parler en public microsoft office anglais professionnel training human resources customer service microsoft office nonprofit organizations entrepreneurship microsoft word microsoft excel microsoft office bss radio network controller (rnc) gsm project management engineering customer service credit analysis internal controls management control recruiting human resources employee relations openoffice service client public speaking microsoft office management microsoft office microsoft excel powerpoint customer service analysis strategic planning program management project management capacity building telecommunications wireless ip customer service management microsoft office project management mysql public speaking strategic planning customer service human rights conseiller en motivation personnelle grh transmission sdh gsm human resources leadership development public speaking telecommunications sales customer service management telecommunications project management analysis qualitative research program management •\\tlogistics & supply chain management customer service workforce management telecommunications training microsoft office project management customer service management team leadership strategic planning teaching program evaluation research data analysis web design social networking video production microsoft office customer service microsoft excel french customer service advertising customer service telecommunications management développement de logiciel applications web customer service customer service leadership management service client management leadership microsoft office customer acquisition customer service logistics gestion de projet anglais renforcement des capacités networking telecommunications gsm political science international relations management team building tcp/ip strategic planning finance investments java microsoft office microsoft excel marketing marketing communications social media management strategic planning sales management drive test wimax optimization customer service telecommunications team leadership telecommunications mobile devices marketing communications marketing strategy advertising microsoft excel microsoft word microsoft powerpoint microsoft office public speaking research management customer service project management call centers mobile devices team leadership leadership marketing communications marketing strategy microsoft office public speaking microsoft word database management statistical data analysis software development public speaking microsoft office microsoft excel 2g gsm drive test gsm telecommunications 3g customer service telecommunications customer service project management management public speaking microsoft office telecommunications voip project management microsoft office event planning public speaking microsoft office project management strategic planning program evaluation capacity building ngos management training microsoft excel strategic planning microsoft office international development policy analysis international organizations training program management graphic design corporate identity ngos capacity building community development ngos capacity building microsoft office microsoft excel microsoft word outlook english microsoft word program evaluation international development program management management sql php java microsoft office microsoft excel leadership microsoft office leadership management data entry databases english human resources personnel management interview microsoft office microsoft excel customer service databases microsoft sql server oracle management microsoft office marketing social services management focus groups social animation customer service management 3g microsoft excel linux ccent journalisme project management body of knowledge (pmbok) leadership management international development microsoft excel project management microsoft office corporate finance small business financial management business plan writing business strategy business planning project management public speaking 2g tems investigation drive test enseignement computer science microsoft office logistics aviation management project management microsoft office customer service management program management capacity building community development accounting financial reporting microsoft office customer service customer service customer satisfaction warehouse operations microsoft office international relations humanitarian assistance global health microsoft office management microsoft excel data analysis statistics biostatistics microsoft office parler en public ecrire ngos meal strategic planning team building customer service management team management microsoft word stata wirtschaftswissenschaften international development sql uml crédit banking finance management public relations french microsoft office team building interior design microsoft word management microsoft excel photoshop indesign illustrator microsoft office microsoft excel leadership microsoft office microsoft excel leadership networking telecommunications non-profits telecommunications ss7 hlr microsoft office management leadership management active directory html public relations strategic planning marketing communications procurement analysis training microsoft office project management electrical engineering management customer satisfaction telecommunications spanish microsoft office customer service marketing communications microsoft office mobile devices gsm product management network administration cisco technologies networking capacity building ngos program management engineering construction project engineering des program development marketing event planning fundraising des ngos banking commercial banking analysis training microsoft office microsoft excel customer service marketing strategy public policy research leadership microsoft excel microsoft word microsoft office banking strategic planning microsoft office microsoft excel microsoft word microsoft office leadership microsoft excel sales management public finance account management networking databases program management microsoft word leadership marketing microsoft office fundraising management microsoft office management finance management project management telecommunications windows server windows program management telecommunications public relations marketing international development fundraising monitoring services relocation humanitarian leadership microsoft office data analysis microsoft excel leadership humanitarian assistance training recruiting performance management budgets program management strategic planning microsoft office microsoft excel creole leadership microsoft word community development program management grant writing system administration project planning telecommunications management troubleshooting service client microsoft office humanitaire développement communautaire banque vente service client call centers team leadership cisco networking windows server 2008 network administration humanitarian ngos international development management direct sales\""
      ]
     },
     "execution_count": 121,
     "metadata": {},
     "output_type": "execute_result"
    }
   ],
   "source": [
    "skill_string"
   ]
  },
  {
   "cell_type": "code",
   "execution_count": 124,
   "metadata": {},
   "outputs": [],
   "source": [
    "from wordcloud import WordCloud, STOPWORDS\n",
    "import matplotlib.pyplot as plt "
   ]
  },
  {
   "cell_type": "code",
   "execution_count": 79,
   "metadata": {},
   "outputs": [
    {
     "data": {
      "image/png": "[encoded data removed]",
      "text/plain": [
       "<Figure size 432x288 with 1 Axes>"
      ]
     },
     "metadata": {
      "needs_background": "light"
     },
     "output_type": "display_data"
    }
   ],
   "source": [
    "skill_wordcloud = WordCloud(background_color=\"white\", \n",
    "                              max_words=100, \n",
    "                             ).generate(skill_string)\n",
    "\n",
    "# view the wordcloud\n",
    "plt.imshow(skill_wordcloud, interpolation='bilinear')\n",
    "plt.axis('off')\n",
    "plt.show()"
   ]
  },
  {
   "cell_type": "code",
   "execution_count": 80,
   "metadata": {},
   "outputs": [],
   "source": [
    "import re"
   ]
  },
  {
   "cell_type": "code",
   "execution_count": 138,
   "metadata": {},
   "outputs": [
    {
     "data": {
      "image/png": "[encoded data removed]",
      "text/plain": [
       "<Figure size 432x288 with 1 Axes>"
      ]
     },
     "metadata": {
      "needs_background": "light"
     },
     "output_type": "display_data"
    }
   ],
   "source": [
    "skill_wordcloud = WordCloud(background_color=\"white\", \n",
    "                              max_words=50, \n",
    "                             ).generate(skill_string)\n",
    "\n",
    "# view the wordcloud\n",
    "plt.imshow(skill_wordcloud, interpolation='bilinear')\n",
    "plt.axis('off')\n",
    "plt.show()"
   ]
  },
  {
   "cell_type": "markdown",
   "metadata": {},
   "source": [
    "## basic exploratory in the education dataset"
   ]
  },
  {
   "cell_type": "code",
   "execution_count": null,
   "metadata": {},
   "outputs": [],
   "source": [
    "education_df"
   ]
  },
  {
   "cell_type": "code",
   "execution_count": 140,
   "metadata": {},
   "outputs": [],
   "source": [
    "education_df.drop('ed_dates', axis = 1, inplace = True)"
   ]
  },
  {
   "cell_type": "code",
   "execution_count": 141,
   "metadata": {},
   "outputs": [],
   "source": [
    "edu = education_df.dropna()"
   ]
  },
  {
   "cell_type": "code",
   "execution_count": 143,
   "metadata": {},
   "outputs": [],
   "source": [
    "edu.reset_index(inplace = True)"
   ]
  },
  {
   "cell_type": "code",
   "execution_count": 145,
   "metadata": {},
   "outputs": [
    {
     "name": "stderr",
     "output_type": "stream",
     "text": [
      "C:\\ProgramData\\Anaconda3\\lib\\site-packages\\pandas\\core\\frame.py:4102: SettingWithCopyWarning: \n",
      "A value is trying to be set on a copy of a slice from a DataFrame\n",
      "\n",
      "See the caveats in the documentation: http://pandas.pydata.org/pandas-docs/stable/user_guide/indexing.html#returning-a-view-versus-a-copy\n",
      "  errors=errors,\n"
     ]
    }
   ],
   "source": [
    "edu.drop('index', axis = 1, inplace = True)"
   ]
  },
  {
   "cell_type": "code",
   "execution_count": null,
   "metadata": {},
   "outputs": [],
   "source": [
    "#Creating column to identify degree earned \n",
    "\n",
    "# Function to identify degree\n",
    "def degree(x):\n",
    "    if x.lower().find('master') != -1 or x.lower().find('ms') != -1 or x.lower().find('m.s') != -1 or x.lower().find('mba') != -1 or x.lower().find('m d') != -1:\n",
    "        return(1)\n",
    "    if x.lower().find('phd') != -1 or x.lower().find('p.hd') != -1 or x.lower().find('ph.d.') != -1 or x.lower().find('ph.d') != -1:\n",
    "        return(2)\n",
    "    if x.lower().find('bachelor') != -1 or x.lower().find('ba') != -1 or x.lower().find('bs') != -1 or x.lower().find('b.a') != -1 or x.lower().find('b.s') != -1 or x.lower().find('licence') != -1 or x.lower().find('licentiate') != -1:\n",
    "        return(3)\n",
    "    else:\n",
    "        return(0)\n",
    "\n",
    "    \n",
    "# Create degree column\n",
    "edu['deg'] = list(map(degree, edu['ed_deg']))\n",
    "\n",
    "#edu"
   ]
  },
  {
   "cell_type": "code",
   "execution_count": 78,
   "metadata": {},
   "outputs": [],
   "source": [
    "eduf = edu.groupby('profile').first()\n",
    "#eduf"
   ]
  },
  {
   "cell_type": "code",
   "execution_count": 150,
   "metadata": {},
   "outputs": [
    {
     "data": {
      "text/plain": [
       "0    41.080402\n",
       "3    37.185930\n",
       "1    20.979899\n",
       "2     0.753769\n",
       "Name: deg, dtype: float64"
      ]
     },
     "execution_count": 150,
     "metadata": {},
     "output_type": "execute_result"
    }
   ],
   "source": [
    "eduf['deg'].value_counts(normalize=True) * 100"
   ]
  },
  {
   "cell_type": "code",
   "execution_count": 157,
   "metadata": {},
   "outputs": [
    {
     "data": {
      "text/plain": [
       "<matplotlib.legend.Legend at 0x1c91fbb8a08>"
      ]
     },
     "execution_count": 157,
     "metadata": {},
     "output_type": "execute_result"
    },
    {
     "data": {
      "image/png": "[encoded data removed]",
      "text/plain": [
       "<Figure size 432x288 with 1 Axes>"
      ]
     },
     "metadata": {},
     "output_type": "display_data"
    }
   ],
   "source": [
    "import matplotlib.patches as mpatches\n",
    "pie = eduf['deg'].value_counts().plot(kind=\"pie\", autopct='%1.1f%%', labels=None)\n",
    "\n",
    "pie.set_title(\"Last Degree Received\", fontsize=18)\n",
    "Other = mpatches.Patch(color='blue', label='Other')\n",
    "Bachelor = mpatches.Patch(color='orange', label='Bachelor')\n",
    "Master = mpatches.Patch(color='green', label='Master')\n",
    "PhD = mpatches.Patch(color='red', label='Ph.D')\n",
    "plt.legend(handles=[Bachelor,Master,PhD,Other], loc='center left', bbox_to_anchor=(1, 0.5))"
   ]
  },
  {
   "cell_type": "markdown",
   "metadata": {},
   "source": [
    "## I have a lot of cleaning to do , i was suppose to do it before the basic exploratory "
   ]
  },
  {
   "cell_type": "markdown",
   "metadata": {},
   "source": [
    "## Step Cleaning"
   ]
  },
  {
   "cell_type": "code",
   "execution_count": 11,
   "metadata": {},
   "outputs": [],
   "source": [
    "experience_df.reset_index(inplace = True)"
   ]
  },
  {
   "cell_type": "code",
   "execution_count": 14,
   "metadata": {},
   "outputs": [],
   "source": [
    "experience_df.drop('index', axis = 1, inplace = True)"
   ]
  },
  {
   "cell_type": "code",
   "execution_count": null,
   "metadata": {},
   "outputs": [],
   "source": [
    "experience_df"
   ]
  },
  {
   "cell_type": "code",
   "execution_count": 26,
   "metadata": {},
   "outputs": [],
   "source": [
    "experience_df.dropna(inplace = True)"
   ]
  },
  {
   "cell_type": "code",
   "execution_count": null,
   "metadata": {},
   "outputs": [],
   "source": [
    "experience_df"
   ]
  },
  {
   "cell_type": "code",
   "execution_count": 33,
   "metadata": {},
   "outputs": [],
   "source": [
    " new_experience = experience_df.groupby('profile').size().to_frame().reset_index().rename(columns={0: 'count'})"
   ]
  },
  {
   "cell_type": "code",
   "execution_count": null,
   "metadata": {},
   "outputs": [],
   "source": [
    "new_experience"
   ]
  },
  {
   "cell_type": "code",
   "execution_count": 46,
   "metadata": {},
   "outputs": [],
   "source": [
    "check_experience = experience_df[['profile','exp_title']]\n",
    "experience_assigned = check_experience.groupby(['profile'], as_index=False).agg(lambda x: ', '.join(set(x)))"
   ]
  },
  {
   "cell_type": "code",
   "execution_count": null,
   "metadata": {},
   "outputs": [],
   "source": [
    "experience_assigned"
   ]
  },
  {
   "cell_type": "code",
   "execution_count": 64,
   "metadata": {},
   "outputs": [],
   "source": [
    "unique_skills = pd.DataFrame(skill_df['skill'].unique())"
   ]
  },
  {
   "cell_type": "code",
   "execution_count": null,
   "metadata": {},
   "outputs": [],
   "source": [
    "unique_skills"
   ]
  },
  {
   "cell_type": "code",
   "execution_count": 70,
   "metadata": {},
   "outputs": [],
   "source": []
  },
  {
   "cell_type": "code",
   "execution_count": 73,
   "metadata": {},
   "outputs": [],
   "source": [
    "skill_df.reset_index(inplace = True)"
   ]
  },
  {
   "cell_type": "code",
   "execution_count": 74,
   "metadata": {},
   "outputs": [],
   "source": [
    "skill_df.drop('index', axis = 1, inplace = True)"
   ]
  },
  {
   "cell_type": "code",
   "execution_count": null,
   "metadata": {},
   "outputs": [],
   "source": [
    "skill_df"
   ]
  },
  {
   "cell_type": "code",
   "execution_count": 125,
   "metadata": {},
   "outputs": [],
   "source": [
    "skill_assigned = skill_df.groupby(['profile'], as_index=False).agg(lambda x: ', '.join(set(x)))"
   ]
  },
  {
   "cell_type": "code",
   "execution_count": 126,
   "metadata": {},
   "outputs": [
    {
     "data": {
      "text/html": [
       "<div>\n",
       "<style scoped>\n",
       "    .dataframe tbody tr th:only-of-type {\n",
       "        vertical-align: middle;\n",
       "    }\n",
       "\n",
       "    .dataframe tbody tr th {\n",
       "        vertical-align: top;\n",
       "    }\n",
       "\n",
       "    .dataframe thead th {\n",
       "        text-align: right;\n",
       "    }\n",
       "</style>\n",
       "<table border=\"1\" class=\"dataframe\">\n",
       "  <thead>\n",
       "    <tr style=\"text-align: right;\">\n",
       "      <th></th>\n",
       "      <th>profile</th>\n",
       "      <th>skill</th>\n",
       "    </tr>\n",
       "  </thead>\n",
       "  <tbody>\n",
       "    <tr>\n",
       "      <td>0</td>\n",
       "      <td>https://www.linkedin.com/in/abdel-abellard-007...</td>\n",
       "      <td>research, capacity building</td>\n",
       "    </tr>\n",
       "    <tr>\n",
       "      <td>1</td>\n",
       "      <td>https://www.linkedin.com/in/abimaelle-chery-95...</td>\n",
       "      <td>sens des affaires, lettres de motivation, mark...</td>\n",
       "    </tr>\n",
       "    <tr>\n",
       "      <td>2</td>\n",
       "      <td>https://www.linkedin.com/in/adler-barreau-a633...</td>\n",
       "      <td>microsoft office, leadership, microsoft excel</td>\n",
       "    </tr>\n",
       "    <tr>\n",
       "      <td>3</td>\n",
       "      <td>https://www.linkedin.com/in/alainduret/</td>\n",
       "      <td>human resources, training</td>\n",
       "    </tr>\n",
       "    <tr>\n",
       "      <td>4</td>\n",
       "      <td>https://www.linkedin.com/in/alandy-blaise-5a26...</td>\n",
       "      <td>microsoft office, leadership, microsoft excel</td>\n",
       "    </tr>\n",
       "  </tbody>\n",
       "</table>\n",
       "</div>"
      ],
      "text/plain": [
       "                                             profile  \\\n",
       "0  https://www.linkedin.com/in/abdel-abellard-007...   \n",
       "1  https://www.linkedin.com/in/abimaelle-chery-95...   \n",
       "2  https://www.linkedin.com/in/adler-barreau-a633...   \n",
       "3            https://www.linkedin.com/in/alainduret/   \n",
       "4  https://www.linkedin.com/in/alandy-blaise-5a26...   \n",
       "\n",
       "                                               skill  \n",
       "0                        research, capacity building  \n",
       "1  sens des affaires, lettres de motivation, mark...  \n",
       "2      microsoft office, leadership, microsoft excel  \n",
       "3                          human resources, training  \n",
       "4      microsoft office, leadership, microsoft excel  "
      ]
     },
     "execution_count": 126,
     "metadata": {},
     "output_type": "execute_result"
    }
   ],
   "source": [
    "skill_assigned.head()"
   ]
  },
  {
   "cell_type": "code",
   "execution_count": null,
   "metadata": {},
   "outputs": [],
   "source": []
  },
  {
   "cell_type": "code",
   "execution_count": 86,
   "metadata": {},
   "outputs": [],
   "source": [
    "weird = experience_df.tail(423)"
   ]
  },
  {
   "cell_type": "code",
   "execution_count": 87,
   "metadata": {},
   "outputs": [],
   "source": [
    "weird.reset_index(inplace = True)"
   ]
  },
  {
   "cell_type": "code",
   "execution_count": 88,
   "metadata": {},
   "outputs": [
    {
     "name": "stderr",
     "output_type": "stream",
     "text": [
      "C:\\ProgramData\\Anaconda3\\lib\\site-packages\\pandas\\core\\frame.py:4102: SettingWithCopyWarning: \n",
      "A value is trying to be set on a copy of a slice from a DataFrame\n",
      "\n",
      "See the caveats in the documentation: http://pandas.pydata.org/pandas-docs/stable/user_guide/indexing.html#returning-a-view-versus-a-copy\n",
      "  errors=errors,\n"
     ]
    }
   ],
   "source": [
    "weird.drop('index', axis = 1, inplace = True)"
   ]
  },
  {
   "cell_type": "code",
   "execution_count": 90,
   "metadata": {},
   "outputs": [
    {
     "data": {
      "text/plain": [
       "profile        134\n",
       "exp_title      380\n",
       "exp_company    315\n",
       "exp_dates      423\n",
       "dtype: int64"
      ]
     },
     "execution_count": 90,
     "metadata": {},
     "output_type": "execute_result"
    }
   ],
   "source": [
    "weird.nunique()"
   ]
  },
  {
   "cell_type": "code",
   "execution_count": null,
   "metadata": {},
   "outputs": [],
   "source": []
  },
  {
   "cell_type": "code",
   "execution_count": null,
   "metadata": {},
   "outputs": [],
   "source": []
  }
 ],
 "metadata": {
  "kernelspec": {
   "display_name": "Python 3",
   "language": "python",
   "name": "python3"
  },
  "language_info": {
   "codemirror_mode": {
    "name": "ipython",
    "version": 3
   },
   "file_extension": ".py",
   "mimetype": "text/x-python",
   "name": "python",
   "nbconvert_exporter": "python",
   "pygments_lexer": "ipython3",
   "version": "3.7.4"
  }
 },
 "nbformat": 4,
 "nbformat_minor": 2
}
